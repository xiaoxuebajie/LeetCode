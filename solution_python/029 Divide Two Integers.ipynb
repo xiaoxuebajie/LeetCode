{
 "cells": [
  {
   "cell_type": "markdown",
   "metadata": {},
   "source": [
    "# 029 Divide Two Integers\n",
    "- 笔记作者：CV七少\n",
    "- 学习时间：2020.7.13\n",
    "- 编程语言：python\n",
    "- 学习任务：leetcode题解\n",
    "- 题目地址：https://leetcode-cn.com/problems/divide-two-integers/"
   ]
  },
  {
   "cell_type": "markdown",
   "metadata": {},
   "source": [
    "### 题目:\n",
    "给定两个整数，被除数` dividend `和除数` divisor `。将两数相除，要求不使用乘法、除法和` mod `运算符。  \n",
    "返回被除数` dividend `除以除数` divisor `得到的商。  \n",
    "整数除法的结果应当截去`（truncate）`其小数部分，例如：`truncate(8.345) = 8 以及 truncate(-2.7335) = -2`"
   ]
  },
  {
   "cell_type": "markdown",
   "metadata": {},
   "source": [
    "### 示例：\n",
    "- 示例 1:\n",
    "    ```\n",
    "    输入: dividend = 10, divisor = 3\n",
    "    输出: 3\n",
    "    解释: 10/3 = truncate(3.33333..) = truncate(3) = 3\n",
    "    ```\n",
    "- 示例 2:\n",
    "    ```\n",
    "    输入: dividend = 7, divisor = -3\n",
    "    输出: -2\n",
    "    解释: 7/-3 = truncate(-2.33333..) = -2\n",
    "    ```"
   ]
  },
  {
   "cell_type": "markdown",
   "metadata": {},
   "source": [
    "### 题解"
   ]
  },
  {
   "cell_type": "markdown",
   "metadata": {},
   "source": [
    "<font color=#008000>**方法一：**</font> 题干中说明不能用乘法和除法, 那么我们可以用减法, 被除数最多可以减多少个除数还能保证是非负的即可.  [题解](https://leetcode-cn.com/problems/divide-two-integers/solution/chu-fa-dao-jian-fa-de-zhuan-hua-by-h_n/)\n",
    "```\n",
    "超时\n",
    "```"
   ]
  },
  {
   "cell_type": "code",
   "execution_count": 1,
   "metadata": {
    "scrolled": true
   },
   "outputs": [
    {
     "name": "stdout",
     "output_type": "stream",
     "text": [
      "输出为： -2\n"
     ]
    }
   ],
   "source": [
    "class Solution:\n",
    "    def divide(self, dividend: int, divisor: int) -> int:\n",
    "        sig = True if dividend*divisor > 0 else False  # 判断二者相除是正or负\n",
    "        dividend, divisor= abs(dividend), abs(divisor)  # 将被除数和除数都变成正数\n",
    "        count = 0  # 用来表示减去了多少个除数，也就是商为多少\n",
    "        while divisor <= dividend:  # 当被除数小于除数的时候终止循环\n",
    "            dividend -= divisor\n",
    "            count += 1\n",
    "        res = count if sig == True else -count  # 给结果加上符号\n",
    "        return max(min(res, 2**31-1), -2**31)\n",
    "\n",
    "\"\"\"\n",
    "For Example:    input:  dividend = 7, divisor = -3\n",
    "               output:  -2\n",
    "\"\"\"\n",
    "dividend = 7 \n",
    "divisor = -3\n",
    "                \n",
    "solution = Solution()\n",
    "result = solution.divide(dividend, divisor)\n",
    "print('输出为：',result)"
   ]
  },
  {
   "cell_type": "markdown",
   "metadata": {},
   "source": [
    "<font color=#008000>**方法二：**</font> 针对于第一种的缺陷, 我们应该想到让除数成倍的增长, 这样被除数进行的减法操作就会少很多. [题解](https://leetcode-cn.com/problems/divide-two-integers/solution/chu-fa-dao-jian-fa-de-zhuan-hua-by-h_n/)\n",
    "```\n",
    "执行用时：132 ms, 在所有 Python3 提交中击败了5.63%0的用户\n",
    "内存消耗：13.7 MB, 在所有 Python3 提交中击败了7.69%的用户\n",
    "```"
   ]
  },
  {
   "cell_type": "code",
   "execution_count": 2,
   "metadata": {},
   "outputs": [
    {
     "name": "stdout",
     "output_type": "stream",
     "text": [
      "输出为： -2\n"
     ]
    }
   ],
   "source": [
    "class Solution:\n",
    "    def divide(self, dividend: int, divisor: int) -> int:\n",
    "        sig = True if dividend*divisor > 0 else False  # 判断二者相除是正or负\n",
    "        dividend, divisor= abs(dividend), abs(divisor)  # 将被除数和除数都变成正数\n",
    "        res = 0                               # 用来表示减去了多少个除数，也就是商为多少\n",
    "        while divisor <= dividend:              # 当被除数小于除数的时候终止循环\n",
    "            tmp_divisor, count = divisor, 1     # 倍增除数初始化\n",
    "            while tmp_divisor <= dividend:      # 当倍增后的除数大于被除数重新，变成最开始的除数\n",
    "                dividend -= tmp_divisor\n",
    "                res += count\n",
    "                count += 1                      # 更新除数扩大的倍数\n",
    "                tmp_divisor = divisor*count     # 更新除数\n",
    "        res_value = res if sig == True else -res  # 给结果加上符号\n",
    "        return max(min(res_value, 2**31-1), -2**31)\n",
    "\n",
    "\"\"\"\n",
    "For Example:    input:  dividend = 7, divisor = -3\n",
    "               output:  -2\n",
    "\"\"\"\n",
    "dividend = 7 \n",
    "divisor = -3\n",
    "                \n",
    "solution = Solution()\n",
    "result = solution.divide(dividend, divisor)\n",
    "print('输出为：',result)"
   ]
  },
  {
   "cell_type": "markdown",
   "metadata": {},
   "source": [
    "<font color=#008000>**方法三：**</font> 该方法是对方法二的优化, 因为方法二中还是用到了乘法. [题解](https://leetcode-cn.com/problems/divide-two-integers/solution/chu-fa-dao-jian-fa-de-zhuan-hua-by-h_n/)\n",
    "```\n",
    "执行用时：48 ms, 在所有 Python3 提交中击败了47.68%的用户\n",
    "内存消耗：13.7 MB, 在所有 Python3 提交中击败了7.69%的用户\n",
    "```"
   ]
  },
  {
   "cell_type": "code",
   "execution_count": 3,
   "metadata": {},
   "outputs": [
    {
     "name": "stdout",
     "output_type": "stream",
     "text": [
      "输出为： -2\n"
     ]
    }
   ],
   "source": [
    "class Solution:\n",
    "    def divide(self, dividend: int, divisor: int) -> int:\n",
    "        sig = True if dividend*divisor > 0 else False   # 判断二者相除是正or负\n",
    "        dividend, divisor= abs(dividend), abs(divisor)  # 将被除数和除数都变成正数\n",
    "        res = 0                                         # 用来表示减去了多少个除数，也就是商为多少\n",
    "        while divisor <= dividend:                      # 当被除数小于除数的时候终止循环\n",
    "            tmp_divisor, count = divisor, 1             # 倍增除数初始化\n",
    "            while tmp_divisor <= dividend:              # 当倍增后的除数大于被除数重新，变成最开始的除数\n",
    "                dividend -= tmp_divisor\n",
    "                res += count\n",
    "                count <<= 1                             # 向左移动一位\n",
    "                tmp_divisor <<= 1                       # 更新除数(将除数扩大两倍)\n",
    "        res_value = res if sig == True else -res        # 给结果加上符号\n",
    "        return max(min(res_value, 2**31-1), -2**31)\n",
    "\n",
    "\"\"\"\n",
    "For Example:    input:  dividend = 7, divisor = -3\n",
    "               output:  -2\n",
    "\"\"\"\n",
    "dividend = 7 \n",
    "divisor = -3\n",
    "                \n",
    "solution = Solution()\n",
    "result = solution.divide(dividend, divisor)\n",
    "print('输出为：',result)"
   ]
  },
  {
   "cell_type": "markdown",
   "metadata": {},
   "source": [
    "<font color=#008000>**方法四：**</font> 该方法也称为作弊法，因为python自带求商的运算符号\"//\". [题解](https://leetcode-cn.com/problems/divide-two-integers/solution/chu-fa-dao-jian-fa-de-zhuan-hua-by-h_n/)\n",
    "```\n",
    "执行用时：44 ms, 在所有 Python3 提交中击败了73.30%的用户\n",
    "内存消耗：13.7 MB, 在所有 Python3 提交中击败了7.69%的用户\n",
    "```"
   ]
  },
  {
   "cell_type": "code",
   "execution_count": 4,
   "metadata": {},
   "outputs": [
    {
     "name": "stdout",
     "output_type": "stream",
     "text": [
      "输出为： -2\n"
     ]
    }
   ],
   "source": [
    "class Solution:\n",
    "    def divide(self, dividend: int, divisor: int) -> int:\n",
    "\n",
    "        sig = False if dividend * divisor < 0 else True  # 判断二者相除是正or负\n",
    "        dividend, divisor = abs(dividend), abs(divisor)\n",
    "        tmp = dividend // divisor\n",
    "        res_value = tmp if sig == True else -tmp\n",
    "        return min(max(res_value, -2**31), 2**31 - 1)\n",
    "\n",
    "\n",
    "\"\"\"\n",
    "For Example:    input:  dividend = 7, divisor = -3\n",
    "               output:  -2\n",
    "\"\"\"\n",
    "dividend = 7 \n",
    "divisor = -3\n",
    "                \n",
    "solution = Solution()\n",
    "result = solution.divide(dividend, divisor)\n",
    "print('输出为：',result)"
   ]
  },
  {
   "cell_type": "markdown",
   "metadata": {},
   "source": [
    "<font color=#008000>**方法五：**</font> 位运算方法. [题解](https://leetcode-cn.com/problems/divide-two-integers/solution/xiao-xue-sheng-du-hui-de-lie-shu-shi-suan-chu-fa-b/)\n",
    "```\n",
    "执行用时：44 ms, 在所有 Python3 提交中击败了73.30%的用户\n",
    "内存消耗：13.7 MB, 在所有 Python3 提交中击败了7.69%的用户\n",
    "```"
   ]
  },
  {
   "cell_type": "code",
   "execution_count": 5,
   "metadata": {},
   "outputs": [
    {
     "name": "stdout",
     "output_type": "stream",
     "text": [
      "输出为： -2\n"
     ]
    }
   ],
   "source": [
    "class Solution:\n",
    "    def divide(self, dividend: int, divisor: int) -> int:\n",
    "        sign = (dividend > 0) ^ (divisor > 0)\n",
    "        dividend = abs(dividend)\n",
    "        divisor = abs(divisor)\n",
    "        count = 0\n",
    "        #把除数不断左移，直到它大于被除数\n",
    "        while dividend >= divisor:\n",
    "            count += 1\n",
    "            divisor <<= 1\n",
    "        result = 0\n",
    "        while count > 0:\n",
    "            count -= 1\n",
    "            divisor >>= 1\n",
    "            if divisor <= dividend:\n",
    "                result += 1 << count #这里的移位运算是把二进制（第count+1位上的1）转换为十进制\n",
    "                dividend -= divisor\n",
    "        if sign: result = -result\n",
    "        return result if -(1<<31) <= result <= (1<<31)-1 else (1<<31)-1 \n",
    "\n",
    "\"\"\"\n",
    "For Example:    input:  dividend = 7, divisor = -3\n",
    "               output:  -2\n",
    "\"\"\"\n",
    "dividend = 7 \n",
    "divisor = -3\n",
    "                \n",
    "solution = Solution()\n",
    "result = solution.divide(dividend, divisor)\n",
    "print('输出为：',result)"
   ]
  },
  {
   "cell_type": "markdown",
   "metadata": {},
   "source": [
    "### 参考\n",
    "1. https://leetcode-cn.com/problems/divide-two-integers/\n",
    "2. https://leetcode-cn.com/problems/divide-two-integers/solution/xiao-xue-sheng-du-hui-de-lie-shu-shi-suan-chu-fa-b/"
   ]
  },
  {
   "cell_type": "markdown",
   "metadata": {},
   "source": [
    "### 如果你觉得有用的话：\n",
    "- 请点点 **star** 呦\n",
    "- 关注我的 [CSDN博客](https://mp.csdn.net/console/article)\n",
    "- 关注我的 [哔哩哔哩](https://space.bilibili.com/424394389/channel/detail?cid=132513)\n",
    "- 关注公众号：CV伴读社\n",
    "<img src='./images/qrcode.jpg' style='zoom:100%'>"
   ]
  }
 ],
 "metadata": {
  "kernelspec": {
   "display_name": "Python 3",
   "language": "python",
   "name": "python3"
  },
  "language_info": {
   "codemirror_mode": {
    "name": "ipython",
    "version": 3
   },
   "file_extension": ".py",
   "mimetype": "text/x-python",
   "name": "python",
   "nbconvert_exporter": "python",
   "pygments_lexer": "ipython3",
   "version": "3.7.7"
  }
 },
 "nbformat": 4,
 "nbformat_minor": 2
}
