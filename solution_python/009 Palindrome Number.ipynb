{
 "cells": [
  {
   "cell_type": "markdown",
   "metadata": {},
   "source": [
    "# 009 Palindrome Number\n",
    "- 笔记作者：CV七少\n",
    "- 学习时间：2020.6.11\n",
    "- 编程语言：python\n",
    "- 学习任务：leetcode题解\n",
    "- 题目地址：https://leetcode-cn.com/problems/palindrome-number/"
   ]
  },
  {
   "cell_type": "markdown",
   "metadata": {},
   "source": [
    "### 题目:\n",
    "\n",
    "判断一个整数是否是回文数。回文数是指正序（从左向右）和倒序（从右向左）读都是一样的整数。"
   ]
  },
  {
   "cell_type": "markdown",
   "metadata": {},
   "source": [
    "### 示例：\n",
    "- 示例1\n",
    "    ```\n",
    "    输入: 121\n",
    "    输出: true\n",
    "    ```\n",
    "- 示例2\n",
    "    ```\n",
    "    输入: -121\n",
    "    输出: false\n",
    "    解释: 从左向右读, 为 -121 。 从右向左读, 为 121- 。因此它不是一个回文数。\n",
    "\n",
    "    ```\n",
    "- 示例3\n",
    "    ```\n",
    "    输入: 10\n",
    "    输出: false\n",
    "    解释: 从右向左读, 为 01 。因此它不是一个回文数。\n",
    "    ```"
   ]
  },
  {
   "cell_type": "markdown",
   "metadata": {},
   "source": [
    "### 题解"
   ]
  },
  {
   "cell_type": "markdown",
   "metadata": {},
   "source": [
    "<font color=#008000>**方法一：**</font> 转换字符串\n",
    "```\n",
    "执行用时 :92 ms, 在所有 Python3 提交中击败了50.47%的用户\n",
    "内存消耗 :13.6 MB, 在所有 Python3 提交中击败了5.88%的用户\n",
    "```"
   ]
  },
  {
   "cell_type": "code",
   "execution_count": 1,
   "metadata": {},
   "outputs": [
    {
     "name": "stdout",
     "output_type": "stream",
     "text": [
      "输出为: False\n"
     ]
    }
   ],
   "source": [
    "class Solution:\n",
    "    def myAtoi(self, x):\n",
    "        \"\"\"\n",
    "        :type x: int\n",
    "        :rtype: bool\n",
    "        \"\"\"\n",
    "        return x >= 0 and int(str(x)[::-1]) == x\n",
    "\n",
    "    \n",
    "\"\"\"\n",
    "For Example:    input:   x = -121\n",
    "               output:   False\n",
    "\"\"\"\n",
    "x = -121\n",
    "                \n",
    "solution = Solution()\n",
    "result = solution.myAtoi(x)\n",
    "print('输出为:', result)"
   ]
  },
  {
   "cell_type": "markdown",
   "metadata": {},
   "source": [
    "<font color=#008000>**方法二：**</font> 数学表达式\n",
    "```\n",
    "执行用时 :92 ms, 在所有 Python3 提交中击败了50.47%的用户\n",
    "内存消耗 :13.7 MB, 在所有 Python3 提交中击败了5.88%的用户\n",
    "```"
   ]
  },
  {
   "cell_type": "code",
   "execution_count": 2,
   "metadata": {},
   "outputs": [
    {
     "name": "stdout",
     "output_type": "stream",
     "text": [
      "输出为: False\n"
     ]
    }
   ],
   "source": [
    "class Solution:\n",
    "    def myAtoi(self, x):\n",
    "        \"\"\"\n",
    "        :type x: int\n",
    "        :rtype: bool\n",
    "        \"\"\"\n",
    "        if x < 0:\n",
    "            return False\n",
    "        res, temp = 0, x\n",
    "        while temp:\n",
    "            res = res * 10 + temp % 10\n",
    "            temp //= 10\n",
    "        return res == x\n",
    "    \n",
    "\"\"\"\n",
    "For Example:    input:   x = -121\n",
    "               output:   False\n",
    "\"\"\"\n",
    "x = -121\n",
    "                \n",
    "solution = Solution()\n",
    "result = solution.myAtoi(x)\n",
    "print('输出为:', result)"
   ]
  },
  {
   "cell_type": "markdown",
   "metadata": {},
   "source": [
    "### 参考\n",
    "1. https://www.bilibili.com/video/BV1Gg4y1a7sM"
   ]
  },
  {
   "cell_type": "markdown",
   "metadata": {},
   "source": [
    "### 如果你觉得有用的话：\n",
    "- 请点点 **star** 呦\n",
    "- 关注我的 [CSDN博客](https://mp.csdn.net/console/article)\n",
    "- 关注我的 [哔哩哔哩](https://space.bilibili.com/424394389/channel/detail?cid=132513)\n",
    "- 关注公众号：CV伴读社\n",
    "<img src='./images/qrcode.jpg' style='zoom:100%'>"
   ]
  }
 ],
 "metadata": {
  "kernelspec": {
   "display_name": "Python 3",
   "language": "python",
   "name": "python3"
  },
  "language_info": {
   "codemirror_mode": {
    "name": "ipython",
    "version": 3
   },
   "file_extension": ".py",
   "mimetype": "text/x-python",
   "name": "python",
   "nbconvert_exporter": "python",
   "pygments_lexer": "ipython3",
   "version": "3.6.9"
  }
 },
 "nbformat": 4,
 "nbformat_minor": 2
}
