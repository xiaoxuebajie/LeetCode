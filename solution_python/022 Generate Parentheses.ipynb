{
 "cells": [
  {
   "cell_type": "markdown",
   "metadata": {},
   "source": [
    "# 022 Generate Parentheses\n",
    "- 笔记作者：CV七少\n",
    "- 学习时间：2020.7.2\n",
    "- 编程语言：python\n",
    "- 学习任务：leetcode题解\n",
    "- 题目地址：https://leetcode-cn.com/problems/generate-parentheses/"
   ]
  },
  {
   "cell_type": "markdown",
   "metadata": {},
   "source": [
    "### 题目:\n",
    "数字` n `代表生成括号的对数，请你设计一个函数，用于能够生成所有可能的并且` 有效的 `括号组合。"
   ]
  },
  {
   "cell_type": "markdown",
   "metadata": {},
   "source": [
    "### 示例：\n",
    "- 示例 1:\n",
    "    ```\n",
    "    输入：n = 3\n",
    "    输出：[\n",
    "           \"((()))\",\n",
    "           \"(()())\",\n",
    "           \"(())()\",\n",
    "           \"()(())\",\n",
    "           \"()()()\"\n",
    "         ]\n",
    "    ```"
   ]
  },
  {
   "cell_type": "markdown",
   "metadata": {},
   "source": [
    "### 题解"
   ]
  },
  {
   "cell_type": "markdown",
   "metadata": {},
   "source": [
    "<font color=#008000>**方法一：**</font> 深度优先遍历  [题解](https://leetcode-cn.com/problems/generate-parentheses/solution/hui-su-suan-fa-by-liweiwei1419/)\n",
    "```\n",
    "执行用时：40 ms, 在所有 Python3 提交中击败了83.34%的用户\n",
    "内存消耗：13.9 MB, 在所有 Python3 提交中击败了6.06%的用户\n",
    "```"
   ]
  },
  {
   "cell_type": "code",
   "execution_count": 1,
   "metadata": {},
   "outputs": [
    {
     "name": "stdout",
     "output_type": "stream",
     "text": [
      "输出为： ['((()))', '(()())', '(())()', '()(())', '()()()']\n"
     ]
    }
   ],
   "source": [
    "from typing import List\n",
    "\n",
    "\n",
    "class Solution:\n",
    "    def generateParenthesis(self, n: int) -> List[str]:\n",
    "        res = []\n",
    "        cur_str = ''\n",
    "\n",
    "        def dfs(cur_str, left, right):\n",
    "            \"\"\"\n",
    "            :param cur_str: 从根结点到叶子结点的路径字符串\n",
    "            :param left: 左括号还可以使用的个数\n",
    "            :param right: 右括号还可以使用的个数\n",
    "            :return:\n",
    "            \"\"\"\n",
    "            if left == 0 and right == 0:\n",
    "                res.append(cur_str)\n",
    "                return\n",
    "            if right < left:\n",
    "                return\n",
    "            if left > 0:\n",
    "                dfs(cur_str + '(', left - 1, right)\n",
    "            if right > 0:\n",
    "                dfs(cur_str + ')', left, right - 1)\n",
    "\n",
    "        dfs(cur_str, n, n)\n",
    "        return res\n",
    "\n",
    "\"\"\"\n",
    "For Example:    input:    n = 3\n",
    "               output:  [\n",
    "                           \"((()))\",\n",
    "                           \"(()())\",\n",
    "                           \"(())()\",\n",
    "                           \"()(())\",\n",
    "                           \"()()()\"\n",
    "                         ]\n",
    "\"\"\"\n",
    "n = 3\n",
    "                \n",
    "solution = Solution()\n",
    "result = solution.generateParenthesis(n)\n",
    "print('输出为：', result)"
   ]
  },
  {
   "cell_type": "markdown",
   "metadata": {},
   "source": [
    "<font color=#008000>**方法二：**</font> 递循环遍历  [题解](https://leetcode-cn.com/problems/merge-two-sorted-lists/solution/xin-shou-you-hao-xue-hui-tao-lu-bu-fan-cuo-4nian-l/)\n",
    "```\n",
    "执行用时：52 ms, 在所有 Python3 提交中击败了29.10%的用户\n",
    "内存消耗：13.9 MB, 在所有 Python3 提交中击败了6.06%的用户\n",
    "```"
   ]
  },
  {
   "cell_type": "code",
   "execution_count": 2,
   "metadata": {},
   "outputs": [
    {
     "name": "stdout",
     "output_type": "stream",
     "text": [
      "输出为： ['()()()', '()(())', '(())()', '(()())', '((()))']\n"
     ]
    }
   ],
   "source": [
    "from typing import List\n",
    "\n",
    "\n",
    "class Solution:\n",
    "    def generateParenthesis(self, n: int) -> List[str]:\n",
    "        if n == 0:\n",
    "            return []\n",
    "\n",
    "        dp = [None for _ in range(n + 1)]\n",
    "        dp[0] = [\"\"]\n",
    "\n",
    "        for i in range(1, n + 1):\n",
    "            cur = []\n",
    "            for j in range(i):\n",
    "                left = dp[j]\n",
    "                right = dp[i - j - 1]\n",
    "                for s1 in left:\n",
    "                    for s2 in right:\n",
    "                        cur.append(\"(\" + s1 + \")\" + s2)\n",
    "            dp[i] = cur\n",
    "        return dp[n]\n",
    "\n",
    "\"\"\"\n",
    "For Example:    input:    n = 3\n",
    "               output:  [\n",
    "                           \"((()))\",\n",
    "                           \"(()())\",\n",
    "                           \"(())()\",\n",
    "                           \"()(())\",\n",
    "                           \"()()()\"\n",
    "                         ]\n",
    "\"\"\"\n",
    "n = 3\n",
    "                \n",
    "solution = Solution()\n",
    "result = solution.generateParenthesis(n)\n",
    "print('输出为：', result)"
   ]
  },
  {
   "cell_type": "markdown",
   "metadata": {},
   "source": [
    "### 参考\n",
    "1. https://leetcode-cn.com/problems/generate-parentheses/solution/hui-su-suan-fa-by-liweiwei1419/"
   ]
  },
  {
   "cell_type": "markdown",
   "metadata": {},
   "source": [
    "### 如果你觉得有用的话：\n",
    "- 请点点 **star** 呦\n",
    "- 关注我的 [CSDN博客](https://mp.csdn.net/console/article)\n",
    "- 关注我的 [哔哩哔哩](https://space.bilibili.com/424394389/channel/detail?cid=132513)\n",
    "- 关注公众号：CV伴读社\n",
    "<img src='./images/qrcode.jpg' style='zoom:100%'>"
   ]
  }
 ],
 "metadata": {
  "kernelspec": {
   "display_name": "Python 3",
   "language": "python",
   "name": "python3"
  },
  "language_info": {
   "codemirror_mode": {
    "name": "ipython",
    "version": 3
   },
   "file_extension": ".py",
   "mimetype": "text/x-python",
   "name": "python",
   "nbconvert_exporter": "python",
   "pygments_lexer": "ipython3",
   "version": "3.7.7"
  }
 },
 "nbformat": 4,
 "nbformat_minor": 2
}
