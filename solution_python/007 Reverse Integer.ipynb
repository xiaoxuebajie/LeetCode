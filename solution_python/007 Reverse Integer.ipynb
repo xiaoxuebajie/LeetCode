{
 "cells": [
  {
   "cell_type": "markdown",
   "metadata": {},
   "source": [
    "# 007 Reverse Integer\n",
    "- 笔记作者：CV七少\n",
    "- 学习时间：2020.6.9\n",
    "- 编程语言：python\n",
    "- 学习任务：leetcode题解\n",
    "- 题目地址：https://leetcode-cn.com/problems/reverse-integer/"
   ]
  },
  {
   "cell_type": "markdown",
   "metadata": {},
   "source": [
    "### 题目:\n",
    "\n",
    "给出一个 32 位的有符号整数，你需要将这个整数中每位上的数字进行反转。\n",
    "注意:\n",
    "\n",
    "假设我们的环境只能存储得下 32 位的有符号整数，则其数值范围为$[-2^{31},2^{31}-1]$。请根据这个假设，如果反转后整数溢出那么就返回 0。"
   ]
  },
  {
   "cell_type": "markdown",
   "metadata": {},
   "source": [
    "### 示例：\n",
    "- 示例1\n",
    "    ```\n",
    "    输入: 123\n",
    "    输出: 321\n",
    "    ```\n",
    "- 示例2\n",
    "    ```\n",
    "    输入: -123\n",
    "    输出: -321\n",
    "    ```\n",
    "- 示例3\n",
    "    ```\n",
    "    输入：120\n",
    "    输出：21\n",
    "    ```"
   ]
  },
  {
   "cell_type": "markdown",
   "metadata": {},
   "source": [
    "### 题解"
   ]
  },
  {
   "cell_type": "markdown",
   "metadata": {},
   "source": [
    "<font color=#008000>**方法一：**</font> 字符转换\n",
    "```\n",
    "执行用时 :52 ms, 在所有 Python3 提交中击败了25.21%的用户\n",
    "内存消耗 :13.7 MB, 在所有 Python3 提交中击败了6.67%的用户\n",
    "```"
   ]
  },
  {
   "cell_type": "code",
   "execution_count": 1,
   "metadata": {},
   "outputs": [
    {
     "name": "stdout",
     "output_type": "stream",
     "text": [
      "输出为: -321\n"
     ]
    }
   ],
   "source": [
    "class Solution:\n",
    "    def reverse(self, x):\n",
    "        \"\"\"\n",
    "        :type x: int\n",
    "        :rtype: int\n",
    "        \"\"\"\n",
    "        strx = str(x)\n",
    "        x = int('-' + strx[1:][::-1]) if x<0 else int(strx[::-1])\n",
    "        return  0 if x<-2**31 or x>2**31-1 else x\n",
    "    \n",
    "\"\"\"\n",
    "For Example:    input:   x = -123\n",
    "               output:   -321\n",
    "\"\"\"\n",
    "x = -123\n",
    "                \n",
    "solution = Solution()\n",
    "result = solution.reverse(x)\n",
    "print('输出为:', result)"
   ]
  },
  {
   "cell_type": "markdown",
   "metadata": {},
   "source": [
    "<font color=#008000>**方法二：**</font> 数学推算\n",
    "```\n",
    "执行用时 :32 ms, 在所有 Python3 提交中击败了98.25%的用户\n",
    "内存消耗 :13.5 MB, 在所有 Python3 提交中击败了6.67%的用户\n",
    "```"
   ]
  },
  {
   "cell_type": "code",
   "execution_count": 2,
   "metadata": {},
   "outputs": [
    {
     "name": "stdout",
     "output_type": "stream",
     "text": [
      "输出为: -321\n"
     ]
    }
   ],
   "source": [
    "class Solution:\n",
    "    def reverse(self, x):\n",
    "        \"\"\"\n",
    "        :type x: int\n",
    "        :rtype: int\n",
    "        \"\"\"\n",
    "        flag = -1 if x<0 else 1\n",
    "        x = abs(x)\n",
    "        res = 0\n",
    "        while x:\n",
    "            res = res*10 + x%10\n",
    "            x //= 10\n",
    "        res *= flag\n",
    "        return 0 if res<-2**31 or res>2**31-1 else res\n",
    "    \n",
    "\"\"\"\n",
    "For Example:    input:   x = -123\n",
    "               output:   -321\n",
    "\"\"\"\n",
    "x = -123\n",
    "                \n",
    "solution = Solution()\n",
    "result = solution.reverse(x)\n",
    "print('输出为:', result)"
   ]
  },
  {
   "cell_type": "markdown",
   "metadata": {},
   "source": [
    "### 参考\n",
    "1. https://www.bilibili.com/video/BV1tp411A7Eu?from=search&seid=13251925464525554525"
   ]
  },
  {
   "cell_type": "markdown",
   "metadata": {},
   "source": [
    "### 如果你觉得有用的话：\n",
    "- 请点点 **star** 呦\n",
    "- 关注我的 [CSDN博客](https://mp.csdn.net/console/article)\n",
    "- 关注公众号：CV伴读社\n",
    "<img src='./images/qrcode.jpg' style='zoom:100%'>"
   ]
  }
 ],
 "metadata": {
  "kernelspec": {
   "display_name": "Python 3",
   "language": "python",
   "name": "python3"
  },
  "language_info": {
   "codemirror_mode": {
    "name": "ipython",
    "version": 3
   },
   "file_extension": ".py",
   "mimetype": "text/x-python",
   "name": "python",
   "nbconvert_exporter": "python",
   "pygments_lexer": "ipython3",
   "version": "3.6.9"
  }
 },
 "nbformat": 4,
 "nbformat_minor": 2
}
