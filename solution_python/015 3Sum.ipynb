{
 "cells": [
  {
   "cell_type": "markdown",
   "metadata": {},
   "source": [
    "# 015 3Sum\n",
    "- 笔记作者：CV七少\n",
    "- 学习时间：2020.6.19\n",
    "- 编程语言：python\n",
    "- 学习任务：leetcode题解\n",
    "- 题目地址：https://leetcode-cn.com/problems/3sum/"
   ]
  },
  {
   "cell_type": "markdown",
   "metadata": {},
   "source": [
    "### 题目:\n",
    "\n",
    "给你一个包含 n 个整数的数组`nums`，判断`nums`中是否存在三个元素` a，b，c `，使得`a + b + c = 0 `？请你找出所有满足条件且不重复的三元组。  \n",
    "注意：答案中不可以包含重复的三元组。"
   ]
  },
  {
   "cell_type": "markdown",
   "metadata": {},
   "source": [
    "### 示例：\n",
    "- 示例 1:\n",
    "    ```\n",
    "    给定数组 nums = [-1, 0, 1, 2, -1, -4]，\n",
    "\n",
    "    满足要求的三元组集合为：\n",
    "    [\n",
    "      [-1, 0, 1],\n",
    "      [-1, -1, 2]\n",
    "    ]\n",
    "    ```"
   ]
  },
  {
   "cell_type": "markdown",
   "metadata": {},
   "source": [
    "### 题解"
   ]
  },
  {
   "cell_type": "markdown",
   "metadata": {},
   "source": [
    "<font color=#008000>**方法一：**</font> 集合的思路\n",
    "```\n",
    "执行用时：676 ms, 在所有 Python3 提交中击败了93.05%的用户\n",
    "内存消耗：17 MB, 在所有 Python3 提交中击败了6.02%的用户\n",
    "```"
   ]
  },
  {
   "cell_type": "code",
   "execution_count": 1,
   "metadata": {},
   "outputs": [
    {
     "name": "stdout",
     "output_type": "stream",
     "text": [
      "输出为: [[-1, 0, 1], [-1, -1, 2]]\n"
     ]
    }
   ],
   "source": [
    "class Solution:\n",
    "    def threeSum(self, nums):\n",
    "        \"\"\"\n",
    "        :type nums: List[int]\n",
    "        :rtype: List[List[int]]\n",
    "        \"\"\"\n",
    "        res = []\n",
    "        nums.sort()\n",
    "        for i in range(len(nums)):\n",
    "            if nums[i] > 0:\n",
    "                break\n",
    "            if i >= 1 and nums[i] == nums[i-1]:\n",
    "                continue\n",
    "            target = -nums[i]\n",
    "            cache = set()\n",
    "            for j in range(i+1, len(nums)):\n",
    "                if nums[j] in cache:\n",
    "                    if len(res) == 0 or res[-1]!=[nums[i], target-nums[j], nums[j]]:\n",
    "                        res.append([nums[i], target-nums[j], nums[j]])\n",
    "                cache.add(target-nums[j])\n",
    "        return res\n",
    "\n",
    "\"\"\"\n",
    "For Example:    input:   nums = [-1, 0, 1, 2, -1, -4]\n",
    "               output:   [\n",
    "                          [-1, 0, 1],\n",
    "                          [-1, -1, 2]\n",
    "                         ]\n",
    "\"\"\"\n",
    "nums = [-1, 0, 1, 2, -1, -4]\n",
    "                \n",
    "solution = Solution()\n",
    "result = solution.threeSum(nums)\n",
    "print('输出为:', result)"
   ]
  },
  {
   "cell_type": "markdown",
   "metadata": {},
   "source": [
    "<font color=#008000>**方法二：**</font> 排序+双指针\n",
    "```\n",
    "执行用时 :44 ms, 在所有 Python3 提交中击败了59.87%的用户\n",
    "内存消耗 :13.7 MB, 在所有 Python3 提交中击败了6.15%的用户\n",
    "```"
   ]
  },
  {
   "cell_type": "code",
   "execution_count": 2,
   "metadata": {},
   "outputs": [
    {
     "name": "stdout",
     "output_type": "stream",
     "text": [
      "输出为: [[-1, -1, 2], [-1, 0, 1]]\n"
     ]
    }
   ],
   "source": [
    "class Solution:\n",
    "    def threeSum(self, nums):\n",
    "        \"\"\"\n",
    "        :type nums: List[int]\n",
    "        :rtype: List[List[int]]\n",
    "        \"\"\"\n",
    "        n=len(nums)\n",
    "        res=[]\n",
    "        if(not nums or n<3):\n",
    "            return []\n",
    "        nums.sort()\n",
    "        res=[]\n",
    "        for i in range(n):\n",
    "            if(nums[i]>0):\n",
    "                return res\n",
    "            if(i>0 and nums[i]==nums[i-1]):\n",
    "                continue\n",
    "            L=i+1\n",
    "            R=n-1\n",
    "            while(L<R):\n",
    "                if(nums[i]+nums[L]+nums[R]==0):\n",
    "                    res.append([nums[i],nums[L],nums[R]])\n",
    "                    while(L<R and nums[L]==nums[L+1]):\n",
    "                        L=L+1\n",
    "                    while(L<R and nums[R]==nums[R-1]):\n",
    "                        R=R-1\n",
    "                    L=L+1\n",
    "                    R=R-1\n",
    "                elif(nums[i]+nums[L]+nums[R]>0):\n",
    "                    R=R-1\n",
    "                else:\n",
    "                    L=L+1\n",
    "        return res\n",
    "\n",
    "\"\"\"\n",
    "For Example:    input:   nums = [-1, 0, 1, 2, -1, -4]\n",
    "               output:   [\n",
    "                          [-1, 0, 1],\n",
    "                          [-1, -1, 2]\n",
    "                         ]\n",
    "\"\"\"\n",
    "nums = [-1, 0, 1, 2, -1, -4]\n",
    "                \n",
    "solution = Solution()\n",
    "result = solution.threeSum(nums)\n",
    "print('输出为:', result)"
   ]
  },
  {
   "cell_type": "markdown",
   "metadata": {},
   "source": [
    "### 参考\n",
    "1. https://www.bilibili.com/video/BV1ek4y1d7sw\n",
    "2. https://leetcode-cn.com/problems/3sum/solution/pai-xu-shuang-zhi-zhen-zhu-xing-jie-shi-python3-by/"
   ]
  },
  {
   "cell_type": "markdown",
   "metadata": {},
   "source": [
    "### 如果你觉得有用的话：\n",
    "- 请点点 **star** 呦\n",
    "- 关注我的 [CSDN博客](https://mp.csdn.net/console/article)\n",
    "- 关注我的 [哔哩哔哩](https://space.bilibili.com/424394389/channel/detail?cid=132513)\n",
    "- 关注公众号：CV伴读社\n",
    "<img src='./images/qrcode.jpg' style='zoom:100%'>"
   ]
  }
 ],
 "metadata": {
  "kernelspec": {
   "display_name": "Python 3",
   "language": "python",
   "name": "python3"
  },
  "language_info": {
   "codemirror_mode": {
    "name": "ipython",
    "version": 3
   },
   "file_extension": ".py",
   "mimetype": "text/x-python",
   "name": "python",
   "nbconvert_exporter": "python",
   "pygments_lexer": "ipython3",
   "version": "3.6.9"
  }
 },
 "nbformat": 4,
 "nbformat_minor": 2
}
