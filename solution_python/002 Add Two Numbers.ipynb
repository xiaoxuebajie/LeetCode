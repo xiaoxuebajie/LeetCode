{
 "cells": [
  {
   "cell_type": "markdown",
   "metadata": {},
   "source": [
    "# 002 Add Two Numbers\n",
    "- 笔记作者：CV七少\n",
    "- 学习时间：2020.6.4\n",
    "- 编程语言：python\n",
    "- 学习任务：leetcode题解\n",
    "- 题目地址：https://leetcode-cn.com/problems/add-two-numbers/  "
   ]
  },
  {
   "cell_type": "markdown",
   "metadata": {},
   "source": [
    "### 题目:\n",
    "\n",
    "给出两个 **非空** 的链表用来表示两个非负的整数。其中，它们各自的位数是按照 **逆序** 的方式存储的，并且它们的每个节点只能存储 **一位** 数字。\n",
    "\n",
    "如果，我们将这两个数相加起来，则会返回一个新的链表来表示它们的和。您可以假设除了数字 0 之外，这两个数都不会以 0 开头。"
   ]
  },
  {
   "cell_type": "markdown",
   "metadata": {},
   "source": [
    "### 示例：\n",
    "`输入：(2 -> 4 -> 3) + (5 -> 6 -> 4)`  \n",
    "\n",
    "`输出：7 -> 0 -> 8`  \n",
    "\n",
    "`原因：342 + 465 = 807`"
   ]
  },
  {
   "cell_type": "markdown",
   "metadata": {},
   "source": [
    "### 题解"
   ]
  },
  {
   "cell_type": "markdown",
   "metadata": {},
   "source": [
    "<font color=#008000>**方法一：**</font> 设置进位，需要注意的就是等长链表相加最后如果有进位，需要增加一个节点存进位就可以了\n",
    "```\n",
    "执行用时 :80 ms, 在所有 Python3 提交中击败了44.43%的用户\n",
    "内存消耗 :13.7 MB, 在所有 Python3 提交中击败了5.13%的用户\n",
    "```"
   ]
  },
  {
   "cell_type": "code",
   "execution_count": 1,
   "metadata": {},
   "outputs": [
    {
     "name": "stdout",
     "output_type": "stream",
     "text": [
      "输出为：7->0->8\n"
     ]
    }
   ],
   "source": [
    "# Definition for singly-linked list.\n",
    "class ListNode(object):\n",
    "    def __init__(self, x):\n",
    "        self.val = x\n",
    "        self.next = None\n",
    "\n",
    "class Solution:\n",
    "    def addTwoNumbers(self, l1, l2):\n",
    "        \"\"\"\n",
    "        :type l1: ListNode\n",
    "        :type l2: ListNode\n",
    "        :rtype: ListNode\n",
    "        \"\"\"\n",
    "        carry = 0\n",
    "        curr = head = ListNode(0)\n",
    "        \n",
    "        while l1 or l2:\n",
    "            val = carry\n",
    "            if l1:\n",
    "                val += l1.val\n",
    "                l1 = l1.next\n",
    "            if l2:\n",
    "                val += l2.val\n",
    "                l2 = l2.next\n",
    "            curr.next = ListNode(val % 10)\n",
    "            curr = curr.next\n",
    "            carry = val // 10\n",
    "        if carry > 0:\n",
    "            curr.next = ListNode(carry)\n",
    "        return head.next\n",
    "    \n",
    "\"\"\"\n",
    "For Example:    input:   l1: 2->4->3   l2: 5->6->4 \n",
    "               output:   7->0->8\n",
    "\"\"\"\n",
    "\n",
    "l1 = ListNode(2)\n",
    "l1.next = ListNode(4)\n",
    "l1.next.next = ListNode(3)\n",
    "l2 = ListNode(5)\n",
    "l2.next = ListNode(6)\n",
    "l2.next.next = ListNode(4)\n",
    "                \n",
    "solution = Solution()\n",
    "result = solution.addTwoNumbers(l1, l2)\n",
    "print('输出为：%d->%d->%d' % (result.val, result.next.val, result.next.next.val))"
   ]
  },
  {
   "cell_type": "markdown",
   "metadata": {},
   "source": [
    "### 图解:\n",
    "引用的图片展示的是方法一的动态过程，可以帮助分析，很不错\n",
    "<img src='./images/2.gif' style='zoom=10%'>"
   ]
  },
  {
   "cell_type": "markdown",
   "metadata": {},
   "source": [
    "### 参考\n",
    "1. https://github.com/MisterBooo/LeetCodeAnimation"
   ]
  },
  {
   "cell_type": "markdown",
   "metadata": {},
   "source": [
    "### 如果你觉得有用的话：\n",
    "- 请点点 **star** 呦\n",
    "- 关注我的 [CSDN博客](https://mp.csdn.net/console/article)\n",
    "- 关注公众号：CV伴读社\n",
    "<img src='./images/qrcode.jpg' style='zoom:100%'>"
   ]
  }
 ],
 "metadata": {
  "kernelspec": {
   "display_name": "Python 3",
   "language": "python",
   "name": "python3"
  },
  "language_info": {
   "codemirror_mode": {
    "name": "ipython",
    "version": 3
   },
   "file_extension": ".py",
   "mimetype": "text/x-python",
   "name": "python",
   "nbconvert_exporter": "python",
   "pygments_lexer": "ipython3",
   "version": "3.6.9"
  }
 },
 "nbformat": 4,
 "nbformat_minor": 2
}
