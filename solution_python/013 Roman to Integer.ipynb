{
 "cells": [
  {
   "cell_type": "markdown",
   "metadata": {},
   "source": [
    "# 013 Roman to Integer\n",
    "- 笔记作者：CV七少\n",
    "- 学习时间：2020.6.17\n",
    "- 编程语言：python\n",
    "- 学习任务：leetcode题解\n",
    "- 题目地址：https://leetcode-cn.com/problems/roman-to-integer/"
   ]
  },
  {
   "cell_type": "markdown",
   "metadata": {},
   "source": [
    "### 题目:\n",
    "\n",
    "罗马数字包含以下七种字符： `I，V，X，L，C，D, M`\n",
    "```\n",
    "字符          数值\n",
    "I             1\n",
    "V             5\n",
    "X             10\n",
    "L             50\n",
    "C             100\n",
    "D             500\n",
    "M             1000\n",
    "```\n",
    "例如， 罗马数字 2 写做 II ，即为两个并列的 1。12 写做 XII ，即为 X + II 。 27 写做  XXVII, 即为 XX + V + II 。  \n",
    "通常情况下，罗马数字中小的数字在大的数字的右边。但也存在特例，例如 4 不写做 IIII，而是 IV。数字 1 在数字 5 的左边，所表示的数等于大数 5 减小数 1 得到的数值 4 。同样地，数字 9 表示为 IX。这个特殊的规则只适用于以下六种情况：  \n",
    "\n",
    "- I 可以放在 V (5) 和 X (10) 的左边，来表示 4 和 9。\n",
    "- X 可以放在 L (50) 和 C (100) 的左边，来表示 40 和 90。 \n",
    "- C 可以放在 D (500) 和 M (1000) 的左边，来表示 400 和 900。  \n",
    "\n",
    "给定一个整数，将其转为罗马数字。输入确保在 1 到 3999 的范围内。"
   ]
  },
  {
   "cell_type": "markdown",
   "metadata": {},
   "source": [
    "### 示例：\n",
    "- 示例 1:\n",
    "    ```\n",
    "    输入: \"III\"\n",
    "    输出: 3\n",
    "    ```\n",
    "- 示例 2:\n",
    "    ```\n",
    "    输入: \"IV\"\n",
    "    输出: 4\n",
    "    ```\n",
    "- 示例 3:\n",
    "    ```\n",
    "    输入: \"IX\"\n",
    "    输出: 9\n",
    "    ```\n",
    "- 示例 4:\n",
    "    ```\n",
    "    输入: \"LVIII\"\n",
    "    输出: 58\n",
    "    解释: L = 50, V= 5, III = 3.\n",
    "    ```\n",
    "- 示例 5:\n",
    "    ```\n",
    "    输入: \"MCMXCIV\"\n",
    "    输出: 1994\n",
    "    解释: M = 1000, CM = 900, XC = 90, IV = 4.\n",
    "    ```"
   ]
  },
  {
   "cell_type": "markdown",
   "metadata": {},
   "source": [
    "### 题解"
   ]
  },
  {
   "cell_type": "markdown",
   "metadata": {},
   "source": [
    "<font color=#008000>**方法一：**</font> 哈希表 [题注](https://leetcode-cn.com/problems/roman-to-integer/solution/2-xing-python-on-by-knifezhu/)\n",
    "```\n",
    "执行用时 :72 ms, 在所有 Python3 提交中击败了29.84%的用户\n",
    "内存消耗 :13.6 MB, 在所有 Python3 提交中击败了6.45%的用户\n",
    "```\n",
    "思路：\n",
    "- 构建一个字典记录所有罗马数字子串，注意长度为2的子串记录的值是（实际值 - 子串内左边罗马数字代表的数值）\n",
    "\n",
    "- 这样一来，遍历整个 s 的时候判断当前位置和前一个位置的两个字符组成的字符串是否在字典内，如果在就记录值，不在就说明当前位置不存在小数字在前面的情况，直接记录当前位置字符对应值\n",
    "\n",
    "- 举个例子，遍历经过 IV 的时候先记录 I 的对应值 1 再往前移动一步记录 IVIV 的值 3，加起来正好是 IV 的真实值 4。max 函数在这里是为了防止遍历第一个字符的时候出现 [-1:0][−1:0] 的情况"
   ]
  },
  {
   "cell_type": "code",
   "execution_count": 1,
   "metadata": {},
   "outputs": [
    {
     "name": "stdout",
     "output_type": "stream",
     "text": [
      "输出为: 1994\n"
     ]
    }
   ],
   "source": [
    "class Solution:\n",
    "    def romanToInt(self, s):\n",
    "        \"\"\"\n",
    "        :type s: str\n",
    "        :rtype: int\n",
    "        \"\"\"\n",
    "        d = {'I':1, 'IV':3, 'V':5, 'IX':8, 'X':10, 'XL':30, 'L':50, 'XC':80, \\\n",
    "             'C':100, 'CD':300, 'D':500, 'CM':800, 'M':1000}\n",
    "        return sum(d.get(s[max(i-1, 0):i+1], d[n]) for i, n in enumerate(s))\n",
    "    \n",
    "\"\"\"\n",
    "For Example:    input:   s = \"MCMXCIV\"\n",
    "               output:   1994\n",
    "\"\"\"\n",
    "s = \"MCMXCIV\"\n",
    "                \n",
    "solution = Solution()\n",
    "result = solution.romanToInt(s)\n",
    "print('输出为:', result)"
   ]
  },
  {
   "cell_type": "markdown",
   "metadata": {},
   "source": [
    "<font color=#008000>**方法二：**</font> 哈希表的另一种方式 [题注](https://leetcode-cn.com/problems/integer-to-roman/solution/tan-xin-ha-xi-biao-tu-jie-by-ml-zimingmeng/)\n",
    "```\n",
    "执行用时 :60 ms, 在所有 Python3 提交中击败了71.15%的用户\n",
    "内存消耗 :13.5 MB, 在所有 Python3 提交中击败了6.45%的用户\n",
    "```"
   ]
  },
  {
   "cell_type": "code",
   "execution_count": 2,
   "metadata": {},
   "outputs": [
    {
     "name": "stdout",
     "output_type": "stream",
     "text": [
      "输出为: 1994\n"
     ]
    }
   ],
   "source": [
    "class Solution:\n",
    "    def romanToInt(self, s):\n",
    "        \"\"\"\n",
    "        :type s: str\n",
    "        :rtype: int\n",
    "        \"\"\"\n",
    "        ref = {'I':1,\n",
    "               'V':5,\n",
    "               'X':10,\n",
    "               'L':50,\n",
    "               'C':100,\n",
    "               'D':500,\n",
    "               'M':1000\n",
    "               }\n",
    "        if not s:\n",
    "            return 0\n",
    "        res = ref[s[0]]\n",
    "        for i in range(1, len(s)):\n",
    "            prev = s[i-1]\n",
    "            cur = s[i]\n",
    "            if prev and ref[prev] < ref[cur]:\n",
    "                res += (ref[cur] - 2*ref[prev])\n",
    "            else:\n",
    "                res += ref[cur]\n",
    "        return res\n",
    "    \n",
    "\"\"\"\n",
    "For Example:    input:   s = \"MCMXCIV\"\n",
    "               output:   1994\n",
    "\"\"\"\n",
    "s = \"MCMXCIV\"\n",
    "                \n",
    "solution = Solution()\n",
    "result = solution.romanToInt(s)\n",
    "print('输出为:', result)"
   ]
  },
  {
   "cell_type": "markdown",
   "metadata": {},
   "source": [
    "### 参考\n",
    "1. https://leetcode-cn.com/problems/roman-to-integer/solution/2-xing-python-on-by-knifezhu/\n",
    "2. https://www.bilibili.com/video/BV17c411h7M5"
   ]
  },
  {
   "cell_type": "markdown",
   "metadata": {},
   "source": [
    "### 如果你觉得有用的话：\n",
    "- 请点点 **star** 呦\n",
    "- 关注我的 [CSDN博客](https://mp.csdn.net/console/article)\n",
    "- 关注我的 [哔哩哔哩](https://space.bilibili.com/424394389/channel/detail?cid=132513)\n",
    "- 关注公众号：CV伴读社\n",
    "<img src='./images/qrcode.jpg' style='zoom:100%'>"
   ]
  }
 ],
 "metadata": {
  "kernelspec": {
   "display_name": "Python 3",
   "language": "python",
   "name": "python3"
  },
  "language_info": {
   "codemirror_mode": {
    "name": "ipython",
    "version": 3
   },
   "file_extension": ".py",
   "mimetype": "text/x-python",
   "name": "python",
   "nbconvert_exporter": "python",
   "pygments_lexer": "ipython3",
   "version": "3.6.9"
  }
 },
 "nbformat": 4,
 "nbformat_minor": 2
}
