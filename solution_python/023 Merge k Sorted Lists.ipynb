{
 "cells": [
  {
   "cell_type": "markdown",
   "metadata": {},
   "source": [
    "# 023 Merge k Sorted Lists\n",
    "- 笔记作者：CV七少\n",
    "- 学习时间：2020.7.3\n",
    "- 编程语言：python\n",
    "- 学习任务：leetcode题解\n",
    "- 题目地址：https://leetcode-cn.com/problems/merge-k-sorted-lists/"
   ]
  },
  {
   "cell_type": "markdown",
   "metadata": {},
   "source": [
    "### 题目:\n",
    "合并` k `个排序链表，返回合并后的排序链表。请分析和描述算法的复杂度。"
   ]
  },
  {
   "cell_type": "markdown",
   "metadata": {},
   "source": [
    "### 示例：\n",
    "- 示例 1:\n",
    "    ```\n",
    "    输入:\n",
    "    [\n",
    "      1->4->5,\n",
    "      1->3->4,\n",
    "      2->6\n",
    "    ]\n",
    "    输出: 1->1->2->3->4->4->5->6\n",
    "    ```"
   ]
  },
  {
   "cell_type": "markdown",
   "metadata": {},
   "source": [
    "### 题解"
   ]
  },
  {
   "cell_type": "markdown",
   "metadata": {},
   "source": [
    "<font color=#008000>**方法一：**</font> 优先级队列  [题解](https://leetcode-cn.com/problems/merge-k-sorted-lists/solution/leetcode-23-he-bing-kge-pai-xu-lian-biao-by-powcai/)\n",
    "```\n",
    "执行用时：88 ms, 在所有 Python3 提交中击败了75.77%的用户\n",
    "内存消耗：16.7 MB, 在所有 Python3 提交中击败了7.14%的用户\n",
    "```"
   ]
  },
  {
   "cell_type": "code",
   "execution_count": 1,
   "metadata": {},
   "outputs": [
    {
     "name": "stdout",
     "output_type": "stream",
     "text": [
      "输出为：1->1->2->3->4->4->5->6\n"
     ]
    }
   ],
   "source": [
    "# Definition for singly-linked list.\n",
    "class ListNode:\n",
    "    def __init__(self, x):\n",
    "        self.val = x\n",
    "        self.next = None\n",
    "\n",
    "from typing import List\n",
    "class Solution:\n",
    "    def mergeKLists(self, lists: List[ListNode]) -> ListNode:\n",
    "        import heapq\n",
    "        dummy = ListNode(0)\n",
    "        p = dummy\n",
    "        head = []\n",
    "        for i in range(len(lists)):\n",
    "            if lists[i] :\n",
    "                heapq.heappush(head, (lists[i].val, i))\n",
    "                lists[i] = lists[i].next\n",
    "        while head:\n",
    "            val, idx = heapq.heappop(head)\n",
    "            p.next = ListNode(val)\n",
    "            p = p.next\n",
    "            if lists[idx]:\n",
    "                heapq.heappush(head, (lists[idx].val, idx))\n",
    "                lists[idx] = lists[idx].next\n",
    "        return dummy.next\n",
    "\n",
    "\"\"\"\n",
    "For Example:    input:  [\n",
    "                          1->4->5,\n",
    "                          1->3->4,\n",
    "                          2->6\n",
    "                        ]\n",
    "               output:  1->1->2->3->4->4->5->6    \n",
    "\"\"\"\n",
    "l1 = ListNode(1)\n",
    "l1.next = ListNode(4)\n",
    "l1.next.next = ListNode(5)\n",
    "l2 = ListNode(1)\n",
    "l2.next = ListNode(3)\n",
    "l2.next.next = ListNode(4)\n",
    "l3 = ListNode(2)\n",
    "l3.next = ListNode(6)\n",
    "lists = [l1, l2, l3]\n",
    "                \n",
    "solution = Solution()\n",
    "result = solution.mergeKLists(lists)\n",
    "print('输出为：%d->%d->%d->%d->%d->%d->%d->%d' % \\\n",
    "      (result.val, result.next.val, result.next.next.val, result.next.next.next.val,\\\n",
    "      result.next.next.next.next.val, result.next.next.next.next.next.val,\\\n",
    "      result.next.next.next.next.next.next.val, result.next.next.next.next.next.next.next.val))"
   ]
  },
  {
   "cell_type": "markdown",
   "metadata": {},
   "source": [
    "<font color=#008000>**方法二：**</font> 分治  [题解](https://leetcode-cn.com/problems/merge-k-sorted-lists/solution/leetcode-23-he-bing-kge-pai-xu-lian-biao-by-powcai/)\n",
    "```\n",
    "执行用时：120 ms, 在所有 Python3 提交中击败了37.66%的用户\n",
    "内存消耗：23.7 MB, 在所有 Python3 提交中击败了7.14%的用户\n",
    "```"
   ]
  },
  {
   "cell_type": "code",
   "execution_count": 2,
   "metadata": {},
   "outputs": [
    {
     "name": "stdout",
     "output_type": "stream",
     "text": [
      "输出为：1->1->2->3->4->4->5->6\n"
     ]
    }
   ],
   "source": [
    "# Definition for singly-linked list.\n",
    "class ListNode:\n",
    "    def __init__(self, x):\n",
    "        self.val = x\n",
    "        self.next = None\n",
    "\n",
    "from typing import List\n",
    "class Solution:\n",
    "    def mergeKLists(self, lists: List[ListNode]) -> ListNode:\n",
    "        if not lists:return \n",
    "        n = len(lists)\n",
    "        return self.merge(lists, 0, n-1)\n",
    "    def merge(self,lists, left, right):\n",
    "        if left == right:\n",
    "            return lists[left]\n",
    "        mid = left + (right - left) // 2\n",
    "        l1 = self.merge(lists, left, mid)\n",
    "        l2 = self.merge(lists, mid+1, right)\n",
    "        return self.mergeTwoLists(l1, l2)\n",
    "    def mergeTwoLists(self,l1, l2):\n",
    "        if not l1:return l2\n",
    "        if not l2:return l1\n",
    "        if l1.val < l2.val:\n",
    "            l1.next = self.mergeTwoLists(l1.next, l2)\n",
    "            return l1\n",
    "        else:\n",
    "            l2.next = self.mergeTwoLists(l1, l2.next)\n",
    "            return l2\n",
    "\n",
    "\"\"\"\n",
    "For Example:    input:  [\n",
    "                          1->4->5,\n",
    "                          1->3->4,\n",
    "                          2->6\n",
    "                        ]\n",
    "               output:  1->1->2->3->4->4->5->6    \n",
    "\"\"\"\n",
    "l1 = ListNode(1)\n",
    "l1.next = ListNode(4)\n",
    "l1.next.next = ListNode(5)\n",
    "l2 = ListNode(1)\n",
    "l2.next = ListNode(3)\n",
    "l2.next.next = ListNode(4)\n",
    "l3 = ListNode(2)\n",
    "l3.next = ListNode(6)\n",
    "lists = [l1, l2, l3]\n",
    "                \n",
    "solution = Solution()\n",
    "result = solution.mergeKLists(lists)\n",
    "print('输出为：%d->%d->%d->%d->%d->%d->%d->%d' % \\\n",
    "      (result.val, result.next.val, result.next.next.val, result.next.next.next.val,\\\n",
    "      result.next.next.next.next.val, result.next.next.next.next.next.val,\\\n",
    "      result.next.next.next.next.next.next.val, result.next.next.next.next.next.next.next.val))"
   ]
  },
  {
   "cell_type": "markdown",
   "metadata": {},
   "source": [
    "### 参考\n",
    "1. https://leetcode-cn.com/problems/merge-k-sorted-lists/solution/leetcode-23-he-bing-kge-pai-xu-lian-biao-by-powcai/"
   ]
  },
  {
   "cell_type": "markdown",
   "metadata": {},
   "source": [
    "### 如果你觉得有用的话：\n",
    "- 请点点 **star** 呦\n",
    "- 关注我的 [CSDN博客](https://mp.csdn.net/console/article)\n",
    "- 关注我的 [哔哩哔哩](https://space.bilibili.com/424394389/channel/detail?cid=132513)\n",
    "- 关注公众号：CV伴读社\n",
    "<img src='./images/qrcode.jpg' style='zoom:100%'>"
   ]
  }
 ],
 "metadata": {
  "kernelspec": {
   "display_name": "Python 3",
   "language": "python",
   "name": "python3"
  },
  "language_info": {
   "codemirror_mode": {
    "name": "ipython",
    "version": 3
   },
   "file_extension": ".py",
   "mimetype": "text/x-python",
   "name": "python",
   "nbconvert_exporter": "python",
   "pygments_lexer": "ipython3",
   "version": "3.7.7"
  }
 },
 "nbformat": 4,
 "nbformat_minor": 2
}
