{
 "cells": [
  {
   "cell_type": "markdown",
   "metadata": {},
   "source": [
    "# 028 Implement strStr()\n",
    "- 笔记作者：CV七少\n",
    "- 学习时间：2020.7.10\n",
    "- 编程语言：python\n",
    "- 学习任务：leetcode题解\n",
    "- 题目地址：https://leetcode-cn.com/problems/implement-strstr/"
   ]
  },
  {
   "cell_type": "markdown",
   "metadata": {},
   "source": [
    "### 题目:\n",
    "实现 strStr() 函数。  \n",
    "给定一个` haystack `字符串和一个` needle `字符串，在` haystack `字符串中找出` needle `字符串出现的第一个位置 (从0开始)。  \n",
    "如果不存在，则返回  -1。如果` needle `是空字符串，返回 0"
   ]
  },
  {
   "cell_type": "markdown",
   "metadata": {},
   "source": [
    "### 示例：\n",
    "- 示例 1:\n",
    "    ```\n",
    "    输入: haystack = \"hello\", needle = \"ll\"\n",
    "    输出: 2\n",
    "    ```\n",
    "- 示例 2:\n",
    "    ```\n",
    "    输入: haystack = \"aaaaa\", needle = \"bba\"\n",
    "    输出: -1\n",
    "    ```"
   ]
  },
  {
   "cell_type": "markdown",
   "metadata": {},
   "source": [
    "### 题解"
   ]
  },
  {
   "cell_type": "markdown",
   "metadata": {},
   "source": [
    "<font color=#008000>**方法一：**</font> Sunday解法  [题解](https://leetcode-cn.com/problems/implement-strstr/solution/python3-sundayjie-fa-9996-by-tes/)\n",
    "```\n",
    "执行用时：44 ms, 在所有 Python3 提交中击败了61.81%的用户\n",
    "内存消耗：13.7 MB, 在所有 Python3 提交中击败了6.67%的用户\n",
    "```"
   ]
  },
  {
   "cell_type": "code",
   "execution_count": 1,
   "metadata": {
    "scrolled": true
   },
   "outputs": [],
   "source": [
    "class Solution:\n",
    "    def strStr(self, haystack: str, needle: str) -> int:\n",
    "         # Func: 计算偏移表\n",
    "        def calShiftMat(st):\n",
    "            dic = {}\n",
    "            for i in range(len(st)-1,-1,-1):\n",
    "                if not dic.get(st[i]):\n",
    "                    dic[st[i]] = len(st)-i\n",
    "            dic[\"ot\"] = len(st)+1\n",
    "            return dic\n",
    "        \n",
    "        # 其他情况判断\n",
    "        if len(needle) > len(haystack):return -1\n",
    "        if needle==\"\": return 0\n",
    "       \n",
    "        # 偏移表预处理    \n",
    "        dic = calShiftMat(needle)\n",
    "        idx = 0\n",
    "    \n",
    "        while idx+len(needle) <= len(haystack):\n",
    "            \n",
    "            # 待匹配字符串\n",
    "            str_cut = haystack[idx:idx+len(needle)]\n",
    "            \n",
    "            # 判断是否匹配\n",
    "            if str_cut==needle:\n",
    "                return idx\n",
    "            else:\n",
    "                # 边界处理\n",
    "                if idx+len(needle) >= len(haystack):\n",
    "                    return -1\n",
    "                # 不匹配情况下，根据下一个字符的偏移，移动idx\n",
    "                cur_c = haystack[idx+len(needle)]\n",
    "                if dic.get(cur_c):\n",
    "                    idx += dic[cur_c]\n",
    "                else:\n",
    "                    idx += dic[\"ot\"]\n",
    "            \n",
    "        \n",
    "        return -1 if idx+len(needle) >= len(haystack) else idx\n",
    "\n",
    "\"\"\"\n",
    "For Example:    input:  haystack = \"hello\", needle = \"ll\"\n",
    "               output:  2\n",
    "\"\"\"\n",
    "haystack = \"hello\"\n",
    "needle = \"ll\"\n",
    "                \n",
    "solution = Solution()\n",
    "result = solution.strStr(haystack, needle)\n",
    "print('输出为：',result)"
   ]
  },
  {
   "cell_type": "markdown",
   "metadata": {},
   "source": [
    "<font color=#008000>**方法二：**</font> 看needle是不是haystack的一个子串 [题解](https://leetcode-cn.com/problems/implement-strstr/solution/python-1xing-by-knifezhu-8/)\n",
    "```\n",
    "执行用时：44 ms, 在所有 Python3 提交中击败了61.81%的用户\n",
    "内存消耗：13.8 MB, 在所有 Python3 提交中击败了6.67%的用户\n",
    "```"
   ]
  },
  {
   "cell_type": "code",
   "execution_count": 2,
   "metadata": {},
   "outputs": [],
   "source": [
    "class Solution:\n",
    "    def strStr1(self, haystack: str, needle: str) -> int:\n",
    "        for i in range(0, len(haystack) - len(needle) + 1):\n",
    "            if haystack[i:i+len(needle)] == needle:\n",
    "                return i\n",
    "        return -1\n",
    "    \n",
    "    def strStr2(self, haystack: str, needle: str) -> int:\n",
    "        return haystack.find(needle)\n",
    "\n",
    "\"\"\"\n",
    "For Example:    input:  haystack = \"hello\", needle = \"ll\"\n",
    "               output:  2\n",
    "\"\"\"\n",
    "haystack = \"hello\"\n",
    "needle = \"ll\"\n",
    "                \n",
    "solution = Solution()\n",
    "result1 = solution.strStr1(haystack, needle)\n",
    "result2 = solution.strStr2(haystack, needle)\n",
    "\n",
    "print('不使用内置函数输出为：%d,使用内置函数输出为：%d' % (result1, result2))"
   ]
  },
  {
   "cell_type": "markdown",
   "metadata": {},
   "source": [
    "### 参考\n",
    "1. https://leetcode-cn.com/problems/implement-strstr/solution/python3-sundayjie-fa-9996-by-tes/\n",
    "2. https://leetcode-cn.com/problems/implement-strstr/solution/python-1xing-by-knifezhu-8/"
   ]
  },
  {
   "cell_type": "markdown",
   "metadata": {},
   "source": [
    "### 如果你觉得有用的话：\n",
    "- 请点点 **star** 呦\n",
    "- 关注我的 [CSDN博客](https://mp.csdn.net/console/article)\n",
    "- 关注我的 [哔哩哔哩](https://space.bilibili.com/424394389/channel/detail?cid=132513)\n",
    "- 关注公众号：CV伴读社\n",
    "<img src='./images/qrcode.jpg' style='zoom:100%'>"
   ]
  }
 ],
 "metadata": {
  "kernelspec": {
   "display_name": "Python 3",
   "language": "python",
   "name": "python3"
  },
  "language_info": {
   "codemirror_mode": {
    "name": "ipython",
    "version": 3
   },
   "file_extension": ".py",
   "mimetype": "text/x-python",
   "name": "python",
   "nbconvert_exporter": "python",
   "pygments_lexer": "ipython3",
   "version": "3.7.7"
  }
 },
 "nbformat": 4,
 "nbformat_minor": 2
}
