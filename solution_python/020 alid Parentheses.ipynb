{
 "cells": [
  {
   "cell_type": "markdown",
   "metadata": {},
   "source": [
    "# 020 Valid Parentheses\n",
    "- 笔记作者：CV七少\n",
    "- 学习时间：2020.6.30\n",
    "- 编程语言：python\n",
    "- 学习任务：leetcode题解\n",
    "- 题目地址：https://leetcode-cn.com/problems/valid-parentheses/"
   ]
  },
  {
   "cell_type": "markdown",
   "metadata": {},
   "source": [
    "### 题目:\n",
    "给定一个只包括` '('，')'，'{'，'}'，'[',']' `的字符串，判断字符串是否有效。\n",
    "\n",
    "有效字符串需满足：\n",
    "\n",
    "    1. 左括号必须用相同类型的右括号闭合。\n",
    "    2. 左括号必须以正确的顺序闭合。\n",
    "注意空字符串可被认为是有效字符串。"
   ]
  },
  {
   "cell_type": "markdown",
   "metadata": {},
   "source": [
    "### 示例：\n",
    "- 示例 1:\n",
    "    ```\n",
    "    输入: \"()\"\n",
    "    输出: true\n",
    "    ```\n",
    "- 示例 2:\n",
    "    ```\n",
    "    输入: \"()[]{}\"\n",
    "    输出: true\n",
    "    ```\n",
    "- 示例 3:\n",
    "    ```\n",
    "    输入: \"(]\"\n",
    "    输出: false\n",
    "    ```\n",
    "- 示例 4:\n",
    "    ```\n",
    "    输入: \"([)]\"\n",
    "    输出: false\n",
    "    ```\n",
    "- 示例 5:\n",
    "    ```\n",
    "    输入: \"{[]}\"\n",
    "    输出: true\n",
    "    ```"
   ]
  },
  {
   "cell_type": "markdown",
   "metadata": {},
   "source": [
    "### 题解"
   ]
  },
  {
   "cell_type": "markdown",
   "metadata": {},
   "source": [
    "<font color=#008000>**方法一：**</font> 堆栈  [题解](https://leetcode-cn.com/problems/valid-parentheses/solution/zhu-bu-fen-xi-tu-jie-zhan-zhan-shi-zui-biao-zhun-d/)\n",
    "```\n",
    "执行用时：32 ms, 在所有 Python3 提交中击败了97.36%的用户\n",
    "内存消耗：13.8 MB, 在所有 Python3 提交中击败了5.22%的用户\n",
    "```"
   ]
  },
  {
   "cell_type": "code",
   "execution_count": 1,
   "metadata": {},
   "outputs": [
    {
     "name": "stdout",
     "output_type": "stream",
     "text": [
      "输出为: True\n"
     ]
    }
   ],
   "source": [
    "class Solution:\n",
    "    def isValid(self, s: str) -> bool:\n",
    "        dic = {')':'(',']':'[','}':'{'}\n",
    "        stack = []\n",
    "        for i in s:\n",
    "            if stack and i in dic:\n",
    "                if stack[-1] == dic[i]: stack.pop()\n",
    "                else: return False\n",
    "            else: stack.append(i)\n",
    "            \n",
    "        return not stack\n",
    "\n",
    "\"\"\"\n",
    "For Example:    input:    s = \"{[]}\"\n",
    "               output:    true\n",
    "\"\"\"\n",
    "s = \"{[]}\"\n",
    "                \n",
    "solution = Solution()\n",
    "result = solution.isValid(s)\n",
    "print('输出为:', result)"
   ]
  },
  {
   "cell_type": "markdown",
   "metadata": {},
   "source": [
    "### 参考\n",
    "1. https://leetcode-cn.com/problems/valid-parentheses/solution/zhu-bu-fen-xi-tu-jie-zhan-zhan-shi-zui-biao-zhun-d/"
   ]
  },
  {
   "cell_type": "markdown",
   "metadata": {},
   "source": [
    "### 如果你觉得有用的话：\n",
    "- 请点点 **star** 呦\n",
    "- 关注我的 [CSDN博客](https://mp.csdn.net/console/article)\n",
    "- 关注我的 [哔哩哔哩](https://space.bilibili.com/424394389/channel/detail?cid=132513)\n",
    "- 关注公众号：CV伴读社\n",
    "<img src='./images/qrcode.jpg' style='zoom:100%'>"
   ]
  }
 ],
 "metadata": {
  "kernelspec": {
   "display_name": "Python 3",
   "language": "python",
   "name": "python3"
  },
  "language_info": {
   "codemirror_mode": {
    "name": "ipython",
    "version": 3
   },
   "file_extension": ".py",
   "mimetype": "text/x-python",
   "name": "python",
   "nbconvert_exporter": "python",
   "pygments_lexer": "ipython3",
   "version": "3.7.5"
  }
 },
 "nbformat": 4,
 "nbformat_minor": 2
}
