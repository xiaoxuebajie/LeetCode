{
 "cells": [
  {
   "cell_type": "markdown",
   "metadata": {},
   "source": [
    "# 016 3Sum Closest\n",
    "- 笔记作者：CV七少\n",
    "- 学习时间：2020.6.22\n",
    "- 编程语言：python\n",
    "- 学习任务：leetcode题解\n",
    "- 题目地址：https://leetcode-cn.com/problems/3sum-closest/"
   ]
  },
  {
   "cell_type": "markdown",
   "metadata": {},
   "source": [
    "### 题目:\n",
    "\n",
    "给定一个包括 n 个整数的数组`nums`和 一个目标值`target`。找出`nums`中的三个整数，使得它们的和与`target`最接近。  \n",
    "返回这三个数的和。假定每组输入只存在唯一答案。"
   ]
  },
  {
   "cell_type": "markdown",
   "metadata": {},
   "source": [
    "### 示例：\n",
    "- 示例 1:\n",
    "    ```\n",
    "    输入：nums = [-1,2,1,-4], target = 1\n",
    "    输出：2\n",
    "    解释：与 target 最接近的和是 2 (-1 + 2 + 1 = 2) 。\n",
    "    ```\n",
    "- 提示：\n",
    "\n",
    "    - 3 <= nums.length <= 10^3  \n",
    "    - -10^3 <= nums[i] <= 10^3  \n",
    "    - -10^4 <= target <= 10^4"
   ]
  },
  {
   "cell_type": "markdown",
   "metadata": {},
   "source": [
    "### 题解"
   ]
  },
  {
   "cell_type": "markdown",
   "metadata": {},
   "source": [
    "<font color=#008000>**方法一：**</font> 排序 + 双指针\n",
    "```\n",
    "执行用时：132 ms, 在所有 Python3 提交中击败了55.43%的用户\n",
    "内存消耗：13.6 MB, 在所有 Python3 提交中击败了9.38%的用户\n",
    "```"
   ]
  },
  {
   "cell_type": "code",
   "execution_count": 1,
   "metadata": {},
   "outputs": [
    {
     "name": "stdout",
     "output_type": "stream",
     "text": [
      "输出为: 2\n"
     ]
    }
   ],
   "source": [
    "class Solution:\n",
    "    def threeSumClosest(self, nums, target):\n",
    "        \"\"\"\n",
    "        :type nums: List[int]\n",
    "        :type target: int\n",
    "        :rtype: int\n",
    "        \"\"\"\n",
    "        n=len(nums)\n",
    "        if(not nums or n<3):\n",
    "            return None\n",
    "        nums.sort()\n",
    "        res=float(\"inf\")\n",
    "        for i in range(n):\n",
    "            if(i>0 and nums[i]==nums[i-1]):\n",
    "                continue\n",
    "            L=i+1\n",
    "            R=n-1\n",
    "            while(L<R):\n",
    "                cur_sum=nums[i]+nums[L]+nums[R]\n",
    "                \n",
    "                if(cur_sum==target):\n",
    "                    return target\n",
    "                if(abs(cur_sum-target)<abs(res-target)):\n",
    "                    res=cur_sum\n",
    "                if(cur_sum-target<0):\n",
    "                    L+=1\n",
    "                else:\n",
    "                    R-=1\n",
    "        return res\n",
    "\n",
    "\"\"\"\n",
    "For Example:    input:   nums = [-1,2,1,-4], target = 1\n",
    "               output:   2\n",
    "\"\"\"\n",
    "nums = [-1,2,1,-4]\n",
    "target = 1\n",
    "                \n",
    "solution = Solution()\n",
    "result = solution.threeSumClosest(nums, target)\n",
    "print('输出为:', result)"
   ]
  },
  {
   "cell_type": "markdown",
   "metadata": {},
   "source": [
    "### 参考\n",
    "1. https://leetcode-cn.com/problems/3sum-closest/solution/pai-xu-shuang-zhi-zhen-jian-dan-qing-xi-python3-by/"
   ]
  },
  {
   "cell_type": "markdown",
   "metadata": {},
   "source": [
    "### 如果你觉得有用的话：\n",
    "- 请点点 **star** 呦\n",
    "- 关注我的 [CSDN博客](https://mp.csdn.net/console/article)\n",
    "- 关注我的 [哔哩哔哩](https://space.bilibili.com/424394389/channel/detail?cid=132513)\n",
    "- 关注公众号：CV伴读社\n",
    "<img src='./images/qrcode.jpg' style='zoom:100%'>"
   ]
  }
 ],
 "metadata": {
  "kernelspec": {
   "display_name": "Python 3",
   "language": "python",
   "name": "python3"
  },
  "language_info": {
   "codemirror_mode": {
    "name": "ipython",
    "version": 3
   },
   "file_extension": ".py",
   "mimetype": "text/x-python",
   "name": "python",
   "nbconvert_exporter": "python",
   "pygments_lexer": "ipython3",
   "version": "3.6.9"
  }
 },
 "nbformat": 4,
 "nbformat_minor": 2
}
