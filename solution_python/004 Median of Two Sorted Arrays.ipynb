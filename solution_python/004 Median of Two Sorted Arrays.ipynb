{
 "cells": [
  {
   "cell_type": "markdown",
   "metadata": {},
   "source": [
    "# 004 Median of Two Sorted Arrays\n",
    "- 笔记作者：CV七少\n",
    "- 学习时间：2020.6.6\n",
    "- 编程语言：python\n",
    "- 学习任务：leetcode题解\n",
    "- 题目地址：https://leetcode-cn.com/problems/median-of-two-sorted-arrays/  "
   ]
  },
  {
   "cell_type": "markdown",
   "metadata": {},
   "source": [
    "### 题目:\n",
    "\n",
    "给定两个大小为 m 和 n 的正序（从小到大）数组 `nums1` 和 `nums2`。\n",
    "\n",
    "请你找出这两个正序数组的中位数，并且要求算法的时间复杂度为 O(log(m + n))。\n",
    "\n",
    "你可以假设 `nums1` 和 `nums2` 不会同时为空。"
   ]
  },
  {
   "cell_type": "markdown",
   "metadata": {},
   "source": [
    "### 示例：\n",
    "- 示例 1\n",
    "    ```\n",
    "    nums1 = [1, 3]\n",
    "    nums2 = [2]\n",
    "    则中位数是 2.0\n",
    "    ```\n",
    "- 示例 2\n",
    "    ```\n",
    "    nums1 = [1, 2]\n",
    "    nums2 = [3, 4]\n",
    "    则中位数是 (2 + 3)/2 = 2.5\n",
    "    ```"
   ]
  },
  {
   "cell_type": "markdown",
   "metadata": {},
   "source": [
    "### 题解"
   ]
  },
  {
   "cell_type": "markdown",
   "metadata": {},
   "source": [
    "<font color=#008000>**方法一：**</font> 暴力法，合并两个数组，进行排序，然后求中位数。<br>\n",
    "\n",
    "Tips: &emsp;这种方法时间复杂度取决于排序方法，可以参考我的一些笔记 [快速排序](https://github.com/xiaoxuebajie/algorithm/blob/master/python/Day3%20%E5%BF%AB%E9%80%9F%E6%8E%92%E5%BA%8F.ipynb)$O((m+n)log(m+n))$。  \n",
    " &emsp;&emsp; &emsp;本题的话时间复杂度不满足要求，只提供思路，另外，之所以编译通过，是因为验证集合维度过小。  \n",
    " &emsp;&emsp; &emsp;另外python默认排序算法是Timesort算法[wiki](http://en.wikipedia.org/wiki/Timsort)，[CSDN博客翻译](https://blog.csdn.net/yangzhongblog/article/details/8184707)\n",
    "```\n",
    "执行用时 :56 ms, 在所有 Python3 提交中击败了63.64%的用户\n",
    "内存消耗 :13.7 MB, 在所有 Python3 提交中击败了6.15%的用户\n",
    "```"
   ]
  },
  {
   "cell_type": "code",
   "execution_count": 1,
   "metadata": {},
   "outputs": [
    {
     "name": "stdout",
     "output_type": "stream",
     "text": [
      "输出为： 2.5\n"
     ]
    }
   ],
   "source": [
    "class Solution:\n",
    "    def findMedianSortedArrays(self, nums1, nums2):\n",
    "        \"\"\"\n",
    "        :type nums1: List[int]\n",
    "        :type nums2: List[int]\n",
    "        :rtype: float\n",
    "        \"\"\"   \n",
    "        num = nums1 + nums2\n",
    "        num.sort()\n",
    "        m = len(nums1)\n",
    "        n = len(nums2)\n",
    "        ret = 0\n",
    "        if (m + n) % 2 == 0:\n",
    "            ret = (num[int((m + n) / 2 - 1)] + num[int((m + n) / 2)]) / 2\n",
    "        else:\n",
    "            ret = (num[(m + n) // 2])\n",
    "        return ret\n",
    "\n",
    "\"\"\"\n",
    "For Example:    input:   nums1 = [1, 2]   nums2 = [3, 4]\n",
    "               output:   2.0\n",
    "\"\"\"\n",
    "\n",
    "nums1 = [1, 2]\n",
    "nums2 = [3, 4]\n",
    "                \n",
    "solution = Solution()\n",
    "result = solution.findMedianSortedArrays(nums1, nums2)\n",
    "print('输出为：', result)"
   ]
  },
  {
   "cell_type": "markdown",
   "metadata": {},
   "source": [
    "<font color=#008000>**方法二：**</font> 建立双指针，[归并排序](https://github.com/xiaoxuebajie/algorithm/blob/master/python/Day5%20%E5%BD%92%E5%B9%B6%E6%8E%92%E5%BA%8F.ipynb)的思路 <br>\n",
    "\n",
    "Tips：需要注意的是循环终止条件不需要遍历所有值，找到需要的即可。  \n",
    "&emsp;&emsp;&emsp;时间复杂度是$O(\\frac{m+n}{2})=O(m+n)$，不满足本题要求，只提供思路。\n",
    "```\n",
    "执行用时 :68 ms, 在所有 Python3 提交中击败了26.49%的用户\n",
    "内存消耗 :13.9 MB, 在所有 Python3 提交中击败了6.15%的用户\n",
    "```"
   ]
  },
  {
   "cell_type": "code",
   "execution_count": 2,
   "metadata": {},
   "outputs": [
    {
     "name": "stdout",
     "output_type": "stream",
     "text": [
      "输出为： 2.5\n"
     ]
    }
   ],
   "source": [
    "class Solution:\n",
    "    def findMedianSortedArrays(self, nums1, nums2):\n",
    "        \"\"\"\n",
    "        :type nums1: List[int]\n",
    "        :type nums2: List[int]\n",
    "        :rtype: float\n",
    "        \"\"\"   \n",
    "        len1 = len(nums1)\n",
    "        len2 = len(nums2)\n",
    "        length = len1 + len2     \n",
    "        p1 = 0\n",
    "        p2 = 0\n",
    "        r = []\n",
    "        while (len(r) < (length // 2 + 1)):\n",
    "            if (p1 == len1):\n",
    "                r.append(nums2[p2])\n",
    "                p2 = p2 + 1\n",
    "            elif (p2 == len2):\n",
    "                r.append(nums1[p1])\n",
    "                p1 = p1 + 1\n",
    "            else:\n",
    "                if (nums1[p1] < nums2[p2]):\n",
    "                    r.append(nums1[p1])\n",
    "                    p1 = p1 + 1\n",
    "                else:\n",
    "                    r.append(nums2[p2])\n",
    "                    p2 = p2 + 1\n",
    "                    \n",
    "        f = 1 if (length%2 == 0) else 0\n",
    "        if f == 0:\n",
    "            return r[length//2]\n",
    "        else:\n",
    "            return (r[length//2]+r[length//2-1])/2\n",
    "\n",
    "\"\"\"\n",
    "For Example:    input:   nums1 = [1, 2]   nums2 = [3, 4]\n",
    "               output:   2.0\n",
    "\"\"\"\n",
    "\n",
    "nums1 = [1, 2]\n",
    "nums2 = [3, 4]\n",
    "                \n",
    "solution = Solution()\n",
    "result = solution.findMedianSortedArrays(nums1, nums2)\n",
    "print('输出为：', result)"
   ]
  },
  {
   "cell_type": "markdown",
   "metadata": {},
   "source": [
    "<font color=#008000>**方法三：**</font> 二分查找的思路。时间复杂度$O(log(m+n))$，满足题意。[题注](https://leetcode-cn.com/problems/median-of-two-sorted-arrays/solution/dong-yong-er-fen-cha-zhao-mo-ban-lai-qiao-miao-jie/)\n",
    "```\n",
    "执行用时 :52 ms, 在所有 Python3 提交中击败了78.70%的用户\n",
    "内存消耗 :13.7 MB, 在所有 Python3 提交中击败了6.15%的用户\n",
    "```"
   ]
  },
  {
   "cell_type": "code",
   "execution_count": 3,
   "metadata": {},
   "outputs": [
    {
     "name": "stdout",
     "output_type": "stream",
     "text": [
      "输出为： 2.5\n"
     ]
    }
   ],
   "source": [
    "class Solution:\n",
    "    def findMedianSortedArrays(self, nums1, nums2):\n",
    "        \"\"\"\n",
    "        :type nums1: List[int]\n",
    "        :type nums2: List[int]\n",
    "        :rtype: float\n",
    "        \"\"\"   \n",
    "        if len(nums1) > len(nums2):\n",
    "            nums1, nums2 = nums2, nums1\n",
    "        len1, len2 = len(nums1), len(nums2)\n",
    "        \n",
    "        left, right, half_len = 0, len1, (len1 + len2 + 1) // 2\n",
    "        mid1 = (left + right) // 2\n",
    "        mid2 = half_len - mid1\n",
    "        \n",
    "        while left < right:\n",
    "            if mid1 < len1 and nums2[mid2-1] > nums1[mid1]:\n",
    "                left = mid1 + 1\n",
    "            else:\n",
    "                right = mid1\n",
    "            mid1 = (left + right) // 2\n",
    "            mid2 = half_len - mid1\n",
    "        \n",
    "        if mid1 == 0: \n",
    "            max_of_left = nums2[mid2-1]\n",
    "        elif mid2 == 0: \n",
    "            max_of_left = nums1[mid1-1]\n",
    "        else: \n",
    "            max_of_left = max(nums1[mid1-1], nums2[mid2-1])\n",
    "\n",
    "        if (len1 + len2) % 2 == 1:\n",
    "            return max_of_left\n",
    "        if mid1 == len1: \n",
    "            min_of_right = nums2[mid2]\n",
    "        elif mid2 == len2: \n",
    "            min_of_right = nums1[mid1]\n",
    "        else: \n",
    "            min_of_right = min(nums1[mid1], nums2[mid2])\n",
    "        \n",
    "        return (max_of_left + min_of_right) / 2\n",
    "\n",
    "\"\"\"\n",
    "For Example:    input:   nums1 = [1, 2]   nums2 = [3, 4]\n",
    "               output:   2.0\n",
    "\"\"\"\n",
    "\n",
    "nums1 = [1, 2]\n",
    "nums2 = [3, 4]\n",
    "                \n",
    "solution = Solution()\n",
    "result = solution.findMedianSortedArrays(nums1, nums2)\n",
    "print('输出为：', result)"
   ]
  },
  {
   "cell_type": "markdown",
   "metadata": {},
   "source": [
    "<font color=#008000>**方法四：**</font> 寻找第k小的思路。时间复杂度$O(log(m+n))$，满足题意。[题注](https://leetcode-cn.com/problems/median-of-two-sorted-arrays/solution/di-k-xiao-shu-jie-fa-ni-zhen-de-dong-ma-by-geek-8m/)\n",
    "```\n",
    "执行用时 :52 ms, 在所有 Python3 提交中击败了78.70%的用户\n",
    "内存消耗 :13.8 MB, 在所有 Python3 提交中击败了6.15%的用户\n",
    "```"
   ]
  },
  {
   "cell_type": "code",
   "execution_count": 4,
   "metadata": {},
   "outputs": [
    {
     "name": "stdout",
     "output_type": "stream",
     "text": [
      "输出为： 2.5\n"
     ]
    }
   ],
   "source": [
    "class Solution:\n",
    "    def findMedianSortedArrays(self, nums1, nums2):\n",
    "        \"\"\"\n",
    "        :type nums1: List[int]\n",
    "        :type nums2: List[int]\n",
    "        :rtype: float\n",
    "        \"\"\"   \n",
    "        m, n = len(nums1), len(nums2)\n",
    "        total = m + n\n",
    "        if total & 1:\n",
    "            return self.findKth(nums1, m, nums2, n, total//2 + 1)\n",
    "        else:\n",
    "            return (self.findKth(nums1, m, nums2, n, total//2) + \\\n",
    "                   self.findKth(nums1, m, nums2, n, total//2 + 1))/2\n",
    "\n",
    "    def findKth(self, nums1, m, nums2, n, k):\n",
    "        if m > n:\n",
    "            return self.findKth(nums2, n, nums1, m, k)\n",
    "        if m == 0:\n",
    "            return nums2[k-1]\n",
    "        if k == 1:\n",
    "            return min(nums1[0], nums2[0])\n",
    "        p1 = min(k //2, m)\n",
    "        p2 = k - p1\n",
    "        if nums1[p1-1] < nums2[p2-1]:\n",
    "            return self.findKth(nums1[p1:], m - p1, nums2, n, k-p1)\n",
    "        elif nums1[p1-1] > nums2[p2-1]:\n",
    "            return self.findKth(nums1, m, nums2[p2:], n - p2, k-p2)\n",
    "        else:\n",
    "            return nums1[p1-1]\n",
    "\n",
    "\"\"\"\n",
    "For Example:    input:   nums1 = [1, 2]   nums2 = [3, 4]\n",
    "               output:   2.0\n",
    "\"\"\"\n",
    "\n",
    "nums1 = [1, 2]\n",
    "nums2 = [3, 4]\n",
    "                \n",
    "solution = Solution()\n",
    "result = solution.findMedianSortedArrays(nums1, nums2)\n",
    "print('输出为：', result)"
   ]
  },
  {
   "cell_type": "markdown",
   "metadata": {},
   "source": [
    "### 图解:\n",
    "引用的图片展示的是方法三的思路，可以帮助分析，很不错\n",
    "<img src='./images/5.gif' style='zoom=10%'>"
   ]
  },
  {
   "cell_type": "markdown",
   "metadata": {},
   "source": [
    "### 参考\n",
    "1. https://github.com/MisterBooo/LeetCodeAnimation\n",
    "2. https://leetcode-cn.com/problems/median-of-two-sorted-arrays/solution/dong-yong-er-fen-cha-zhao-mo-ban-lai-qiao-miao-jie/\n",
    "3. https://leetcode-cn.com/problems/median-of-two-sorted-arrays/solution/di-k-xiao-shu-jie-fa-ni-zhen-de-dong-ma-by-geek-8m/"
   ]
  },
  {
   "cell_type": "markdown",
   "metadata": {},
   "source": [
    "### 如果你觉得有用的话：\n",
    "- 请点点 **star** 呦\n",
    "- 关注我的 [CSDN博客](https://mp.csdn.net/console/article)\n",
    "- 关注公众号：CV伴读社\n",
    "<img src='./images/qrcode.jpg' style='zoom:100%'>"
   ]
  }
 ],
 "metadata": {
  "kernelspec": {
   "display_name": "Python 3",
   "language": "python",
   "name": "python3"
  },
  "language_info": {
   "codemirror_mode": {
    "name": "ipython",
    "version": 3
   },
   "file_extension": ".py",
   "mimetype": "text/x-python",
   "name": "python",
   "nbconvert_exporter": "python",
   "pygments_lexer": "ipython3",
   "version": "3.6.9"
  }
 },
 "nbformat": 4,
 "nbformat_minor": 2
}
