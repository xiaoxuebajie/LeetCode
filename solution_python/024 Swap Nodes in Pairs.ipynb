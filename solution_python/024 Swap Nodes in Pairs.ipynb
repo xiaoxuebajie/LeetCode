{
 "cells": [
  {
   "cell_type": "markdown",
   "metadata": {},
   "source": [
    "# 024 Swap Nodes in Pairs\n",
    "- 笔记作者：CV七少\n",
    "- 学习时间：2020.7.6\n",
    "- 编程语言：python\n",
    "- 学习任务：leetcode题解\n",
    "- 题目地址：https://leetcode-cn.com/problems/swap-nodes-in-pairs/"
   ]
  },
  {
   "cell_type": "markdown",
   "metadata": {},
   "source": [
    "### 题目:\n",
    "给定一个链表，两两交换其中相邻的节点，并返回交换后的链表。\n",
    "**你不能只是单纯的改变节点内部的值**，而是需要实际的进行节点交换"
   ]
  },
  {
   "cell_type": "markdown",
   "metadata": {},
   "source": [
    "### 示例：\n",
    "- 示例 1:\n",
    "    ```\n",
    "    给定 1->2->3->4, 你应该返回 2->1->4->3.\n",
    "    ```"
   ]
  },
  {
   "cell_type": "markdown",
   "metadata": {},
   "source": [
    "### 题解"
   ]
  },
  {
   "cell_type": "markdown",
   "metadata": {},
   "source": [
    "<font color=#008000>**方法一：**</font> 迭代  [题解](https://leetcode-cn.com/problems/swap-nodes-in-pairs/solution/bi-jiao-zhi-jie-gao-xiao-de-zuo-fa-han-tu-jie-by-w/)\n",
    "```\n",
    "执行用时：40 ms, 在所有 Python3 提交中击败了74.15%的用户\n",
    "内存消耗：13.5 MB, 在所有 Python3 提交中击败了6.25%的用户\n",
    "```"
   ]
  },
  {
   "cell_type": "code",
   "execution_count": 1,
   "metadata": {},
   "outputs": [
    {
     "name": "stdout",
     "output_type": "stream",
     "text": [
      "输出为：2->1->4->3\n"
     ]
    }
   ],
   "source": [
    "# Definition for singly-linked list.\n",
    "class ListNode:\n",
    "    def __init__(self, x):\n",
    "        self.val = x\n",
    "        self.next = None\n",
    "\n",
    "class Solution:\n",
    "    def swapPairs(self, head: ListNode) -> ListNode:\n",
    "        dummy = ListNode(-1)\n",
    "        dummy.next = head\n",
    "        c = dummy\n",
    "        while c.next and c.next.next:\n",
    "            a, b=c.next, c.next.next\n",
    "            c.next, a.next = b, b.next\n",
    "            b.next = a\n",
    "            c = c.next.next\n",
    "        return dummy.next\n",
    "\n",
    "\"\"\"\n",
    "For Example:    input:  1->2->3->4\n",
    "               output:  2->1->4->3  \n",
    "\"\"\"\n",
    "head = ListNode(1)\n",
    "head.next = ListNode(2)\n",
    "head.next.next = ListNode(3)\n",
    "head.next.next.next = ListNode(4)\n",
    "                \n",
    "solution = Solution()\n",
    "result = solution.swapPairs(head)\n",
    "print('输出为：%d->%d->%d->%d' % \\\n",
    "      (result.val, result.next.val, result.next.next.val, result.next.next.next.val))"
   ]
  },
  {
   "cell_type": "markdown",
   "metadata": {},
   "source": [
    "<font color=#008000>**方法二：**</font> 递归  [题解](https://leetcode-cn.com/problems/swap-nodes-in-pairs/solution/chao-qiang-gifzhu-ni-li-jie-shi-yong-di-gui-fa-qiu/)\n",
    "```\n",
    "执行用时：40 ms, 在所有 Python3 提交中击败了74.15%的用户\n",
    "内存消耗：13.7 MB, 在所有 Python3 提交中击败了6.25%的用户\n",
    "```"
   ]
  },
  {
   "cell_type": "code",
   "execution_count": 2,
   "metadata": {
    "scrolled": true
   },
   "outputs": [
    {
     "name": "stdout",
     "output_type": "stream",
     "text": [
      "输出为：2->1->4->3\n"
     ]
    }
   ],
   "source": [
    "# Definition for singly-linked list.\n",
    "class ListNode:\n",
    "    def __init__(self, x):\n",
    "        self.val = x\n",
    "        self.next = None\n",
    "\n",
    "class Solution:\n",
    "    def swapPairs(self, head: ListNode) -> ListNode:\n",
    "        if head == None or head.next == None:\n",
    "            return head\n",
    "\n",
    "        l1 = head.next\n",
    "        head.next = self.swapPairs(head.next.next)\n",
    "        l1.next = head\n",
    "\n",
    "        return l1\n",
    "\n",
    "\"\"\"\n",
    "For Example:    input:  1->2->3->4\n",
    "               output:  2->1->4->3  \n",
    "\"\"\"\n",
    "head = ListNode(1)\n",
    "head.next = ListNode(2)\n",
    "head.next.next = ListNode(3)\n",
    "head.next.next.next = ListNode(4)\n",
    "                \n",
    "solution = Solution()\n",
    "result = solution.swapPairs(head)\n",
    "print('输出为：%d->%d->%d->%d' % \\\n",
    "      (result.val, result.next.val, result.next.next.val, result.next.next.next.val))"
   ]
  },
  {
   "cell_type": "markdown",
   "metadata": {},
   "source": [
    "### 参考\n",
    "1. https://leetcode-cn.com/problems/swap-nodes-in-pairs/solution/bi-jiao-zhi-jie-gao-xiao-de-zuo-fa-han-tu-jie-by-w/\n",
    "2. https://leetcode-cn.com/problems/swap-nodes-in-pairs/solution/chao-qiang-gifzhu-ni-li-jie-shi-yong-di-gui-fa-qiu/"
   ]
  },
  {
   "cell_type": "markdown",
   "metadata": {},
   "source": [
    "### 如果你觉得有用的话：\n",
    "- 请点点 **star** 呦\n",
    "- 关注我的 [CSDN博客](https://mp.csdn.net/console/article)\n",
    "- 关注我的 [哔哩哔哩](https://space.bilibili.com/424394389/channel/detail?cid=132513)\n",
    "- 关注公众号：CV伴读社\n",
    "<img src='./images/qrcode.jpg' style='zoom:100%'>"
   ]
  }
 ],
 "metadata": {
  "kernelspec": {
   "display_name": "Python 3",
   "language": "python",
   "name": "python3"
  },
  "language_info": {
   "codemirror_mode": {
    "name": "ipython",
    "version": 3
   },
   "file_extension": ".py",
   "mimetype": "text/x-python",
   "name": "python",
   "nbconvert_exporter": "python",
   "pygments_lexer": "ipython3",
   "version": "3.7.7"
  }
 },
 "nbformat": 4,
 "nbformat_minor": 2
}
