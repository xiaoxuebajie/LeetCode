{
 "cells": [
  {
   "cell_type": "markdown",
   "metadata": {},
   "source": [
    "# 032 Longest Valid Parentheses\n",
    "- 学习时间：2020.7.16\n",
    "- 编程语言：python\n",
    "- 学习任务：leetcode题解\n",
    "- 题目地址：https://leetcode-cn.com/problems/longest-valid-parentheses/"
   ]
  },
  {
   "cell_type": "markdown",
   "metadata": {},
   "source": [
    "### 题目:\n",
    "给定一个只包含 '(' 和 ')' 的字符串，找出最长的包含有效括号的子串的长度。"
   ]
  },
  {
   "cell_type": "markdown",
   "metadata": {},
   "source": [
    "### 示例：\n",
    "- 示例 1:\n",
    "    ```\n",
    "    输入: \"(()\"\n",
    "    输出: 2\n",
    "    解释: 最长有效括号子串为 \"()\"\n",
    "    ```\n",
    "- 示例 2:\n",
    "    ```\n",
    "    输入: \")()())\"\n",
    "    输出: 4\n",
    "    解释: 最长有效括号子串为 \"()()\"\n",
    "    ```   "
   ]
  },
  {
   "cell_type": "markdown",
   "metadata": {},
   "source": [
    "### 题解"
   ]
  },
  {
   "cell_type": "markdown",
   "metadata": {},
   "source": [
    "<font color=#008000>**方法一：**</font>暴力解法 [题解](https://leetcode-cn.com/problems/longest-valid-parentheses/solution/32-zui-chang-you-xiao-gua-hao-pythonjie-ti-si-lu-g/)  \n",
    "```\n",
    "超出时间限制\n",
    "```"
   ]
  },
  {
   "cell_type": "code",
   "execution_count": 1,
   "metadata": {},
   "outputs": [],
   "source": [
    "class Solution:\n",
    "    def longestValidParentheses(self, s: str) -> int:        \n",
    "        if not s or len(s) < 2: return 0\n",
    "        result = 0\n",
    "        # 这个是长度 \n",
    "        for each_len in range(2, len(s)+1, 2):\n",
    "            # 这里是下标\n",
    "            for i in range(0, len(s)-each_len+1):\n",
    "                # 只要该长度的有一个符合马上break，进行判断下一个长度\n",
    "                if self.IsRight(s[i:i+each_len]):\n",
    "                    result = each_len\n",
    "                    break\n",
    "        return result\n",
    "\n",
    "    def IsRight(self, new_s: str) -> bool:\n",
    "        left_list = []\n",
    "        for each in new_s:\n",
    "            if each == \"(\": left_list.append(each)\n",
    "            if each == \")\":\n",
    "                if left_list: left_list.pop()\n",
    "                else: return False\n",
    "        return True if not left_list else False\n",
    "\n",
    "\"\"\"\n",
    "For Example:    input:  s = \")()())\"\n",
    "               output:  4\n",
    "\"\"\"\n",
    "s = \")()())\"\n",
    "                \n",
    "solution = Solution()\n",
    "result = solution.longestValidParentheses(s)\n",
    "print('输出为：', result)"
   ]
  },
  {
   "cell_type": "markdown",
   "metadata": {},
   "source": [
    "<font color=#008000>**方法二：**</font> 动态规划\n",
    " [题解](https://leetcode-cn.com/problems/longest-valid-parentheses/solution/32-zui-chang-you-xiao-gua-hao-pythonjie-ti-si-lu-g/)\n",
    "```\n",
    "执行用时：60 ms, 在所有 Python3 提交中击败了53.21%的用户\n",
    "内存消耗：13.5 MB, 在所有 Python3 提交中击败了11.11%的用户\n",
    "```"
   ]
  },
  {
   "cell_type": "code",
   "execution_count": 2,
   "metadata": {
    "scrolled": true
   },
   "outputs": [
    {
     "name": "stdout",
     "output_type": "stream",
     "text": [
      "输出为： 4\n"
     ]
    }
   ],
   "source": [
    "class Solution:\n",
    "    def longestValidParentheses(self, s: str) -> int:        \n",
    "        maxans = 0\n",
    "        dp = [0]*len(s)\n",
    "        for i in range(len(s)):\n",
    "            if s[i] == \")\":\n",
    "                # 避免python负数的从后往前取值\n",
    "                if i - 1 < 0: continue\n",
    "                if s[i - 1] == \"(\":\n",
    "                    dp[i] = (dp[i - 2] if i >= 2 else 0 ) + 2\n",
    "                elif i - dp[i - 1] > 0 and s[i - dp[i - 1] - 1] == \"(\":\n",
    "                    dp[i] = dp[i - 1] + (dp[i - dp[i - 1] - 2] if i - dp[i - 1] >= 2 else 0) +2\n",
    "                maxans = max(maxans, dp[i])\n",
    "        return maxans\n",
    "\n",
    "\"\"\"\n",
    "For Example:    input:  s = \")()())\"\n",
    "               output:  4\n",
    "\"\"\"\n",
    "s = \")()())\"\n",
    "                \n",
    "solution = Solution()\n",
    "result = solution.longestValidParentheses(s)\n",
    "print('输出为：', result)"
   ]
  },
  {
   "cell_type": "markdown",
   "metadata": {},
   "source": [
    "<font color=#008000>**方法三：**</font> 栈\n",
    " [题解](https://leetcode-cn.com/problems/longest-valid-parentheses/solution/32-zui-chang-you-xiao-gua-hao-pythonjie-ti-si-lu-g/)\n",
    "```\n",
    "执行用时：52 ms, 在所有 Python3 提交中击败了86.30%的用户\n",
    "内存消耗：14.3 MB, 在所有 Python3 提交中击败了11.11%的用户\n",
    "```"
   ]
  },
  {
   "cell_type": "code",
   "execution_count": 3,
   "metadata": {},
   "outputs": [
    {
     "name": "stdout",
     "output_type": "stream",
     "text": [
      "输出为： 4\n"
     ]
    }
   ],
   "source": [
    "class Solution:\n",
    "    def longestValidParentheses(self, s: str) -> int:        \n",
    "        maxnum = 0\n",
    "        stack = [-1]\n",
    "        for i in range(len(s)):\n",
    "            if s[i] == \"(\": stack.append(i)\n",
    "            else:\n",
    "                stack.pop()\n",
    "                if not stack: stack.append(i)\n",
    "                if stack: maxnum = max(maxnum, i - stack[-1])\n",
    "        return maxnum\n",
    "\n",
    "\"\"\"\n",
    "For Example:    input:  s = \")()())\"\n",
    "               output:  4\n",
    "\"\"\"\n",
    "s = \")()())\"\n",
    "                \n",
    "solution = Solution()\n",
    "result = solution.longestValidParentheses(s)\n",
    "print('输出为：', result)"
   ]
  },
  {
   "cell_type": "markdown",
   "metadata": {},
   "source": [
    "<font color=#008000>**方法四：**</font> 不需要额外空间\n",
    " [题解](https://leetcode-cn.com/problems/longest-valid-parentheses/solution/32-zui-chang-you-xiao-gua-hao-pythonjie-ti-si-lu-g/)\n",
    "```\n",
    "执行用时：56 ms, 在所有 Python3 提交中击败了71.58%的用户\n",
    "内存消耗：13.9 MB, 在所有 Python3 提交中击败了11.11%的用户\n",
    "```"
   ]
  },
  {
   "cell_type": "code",
   "execution_count": 4,
   "metadata": {},
   "outputs": [
    {
     "name": "stdout",
     "output_type": "stream",
     "text": [
      "输出为： 4\n"
     ]
    }
   ],
   "source": [
    "class Solution:\n",
    "    def longestValidParentheses(self, s: str) -> int: \n",
    "        return max(self.left_to_right(s), self.right_to_left(s))\n",
    "    \n",
    "    def left_to_right(self, s):\n",
    "        maxnum = 0\n",
    "        left, right = 0, 0\n",
    "        for i in range(len(s)):\n",
    "            if s[i] == \"(\": left += 1\n",
    "            else:\n",
    "                right += 1\n",
    "                if right > left: left, right = 0, 0\n",
    "                if right == left: maxnum = max(maxnum, right*2)\n",
    "        return maxnum\n",
    "    \n",
    "    def right_to_left(self, s):\n",
    "        maxnum = 0\n",
    "        left, right = 0, 0\n",
    "        for i in range(len(s)-1, -1, -1):\n",
    "            if s[i] == \")\": right += 1\n",
    "            else:\n",
    "                left += 1\n",
    "                if right < left: left, right = 0, 0\n",
    "                if right == left: maxnum = max(maxnum, left*2)\n",
    "        return maxnum\n",
    "\n",
    "\"\"\"\n",
    "For Example:    input:  s = \")()())\"\n",
    "               output:  4\n",
    "\"\"\"\n",
    "s = \")()())\"\n",
    "                \n",
    "solution = Solution()\n",
    "result = solution.longestValidParentheses(s)\n",
    "print('输出为：', result)"
   ]
  },
  {
   "cell_type": "markdown",
   "metadata": {},
   "source": [
    "### 参考\n",
    "1. https://leetcode-cn.com/problems/longest-valid-parentheses/solution/32-zui-chang-you-xiao-gua-hao-pythonjie-ti-si-lu-g/"
   ]
  },
  {
   "cell_type": "markdown",
   "metadata": {},
   "source": [
    "### 如果你觉得有用的话：\n",
    "- 请点点 **star** 呦\n",
    "- 关注我的 [CSDN博客](https://mp.csdn.net/console/article)\n",
    "- 关注我的 [哔哩哔哩](https://space.bilibili.com/424394389/channel/detail?cid=132513)\n",
    "- 关注公众号：CV伴读社\n",
    "<img src='./images/qrcode.jpg' style='zoom:100%'>"
   ]
  }
 ],
 "metadata": {
  "kernelspec": {
   "display_name": "Python 3",
   "language": "python",
   "name": "python3"
  },
  "language_info": {
   "codemirror_mode": {
    "name": "ipython",
    "version": 3
   },
   "file_extension": ".py",
   "mimetype": "text/x-python",
   "name": "python",
   "nbconvert_exporter": "python",
   "pygments_lexer": "ipython3",
   "version": "3.7.7"
  }
 },
 "nbformat": 4,
 "nbformat_minor": 2
}
