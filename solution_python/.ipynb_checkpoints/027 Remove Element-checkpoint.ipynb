{
 "cells": [
  {
   "cell_type": "markdown",
   "metadata": {},
   "source": [
    "# 027 Remove Element\n",
    "- 笔记作者：CV七少\n",
    "- 学习时间：2020.7.9\n",
    "- 编程语言：python\n",
    "- 学习任务：leetcode题解\n",
    "- 题目地址：https://leetcode-cn.com/problems/remove-element/"
   ]
  },
  {
   "cell_type": "markdown",
   "metadata": {},
   "source": [
    "### 题目:\n",
    "给你一个数组` nums `和一个值` val `，你需要` 原地 `移除所有数值等于` val `的元素，并返回移除后数组的新长度。  \n",
    "不要使用额外的数组空间，你必须仅使用 O(1) 额外空间并` 原地修改输入数组 `。\n",
    "元素的顺序可以改变。你不需要考虑数组中超出新长度后面的元素。"
   ]
  },
  {
   "cell_type": "markdown",
   "metadata": {},
   "source": [
    "### 示例：\n",
    "- 示例 1:\n",
    "    ```\n",
    "    给定 nums = [3,2,2,3], val = 3,\n",
    "    函数应该返回新的长度 2, 并且 nums 中的前两个元素均为 2。\n",
    "    你不需要考虑数组中超出新长度后面的元素。\n",
    "    ```\n",
    "- 示例 2:\n",
    "    ```\n",
    "    给定 nums = [0,1,2,2,3,0,4,2], val = 2,\n",
    "    函数应该返回新的长度 5, 并且 nums 中的前五个元素为 0, 1, 3, 0, 4。\n",
    "    注意这五个元素可为任意顺序。\n",
    "    你不需要考虑数组中超出新长度后面的元素。\n",
    "    ```"
   ]
  },
  {
   "cell_type": "markdown",
   "metadata": {},
   "source": [
    "### 题解"
   ]
  },
  {
   "cell_type": "markdown",
   "metadata": {},
   "source": [
    "<font color=#008000>**方法一：**</font> 双指针  [题解](https://leetcode-cn.com/problems/remove-element/solution/python3-yi-chu-yuan-su-by-leicj/)\n",
    "```\n",
    "执行用时：48 ms, 在所有 Python3 提交中击败了21.14%的用户\n",
    "内存消耗：13.6 MB, 在所有 Python3 提交中击败了7.14%的用户\n",
    "```"
   ]
  },
  {
   "cell_type": "code",
   "execution_count": 1,
   "metadata": {
    "scrolled": true
   },
   "outputs": [
    {
     "name": "stdout",
     "output_type": "stream",
     "text": [
      "输出为： 5\n"
     ]
    }
   ],
   "source": [
    "from typing import List\n",
    "\n",
    "class Solution:\n",
    "    def removeElement(self, nums: List[int], val: int) -> int:\n",
    "        # i为不同元素的数组的长度\n",
    "        i = 0\n",
    "        for j in range(len(nums)):\n",
    "            # 如果nums[j]不等于val, 则将nums[j]赋值给nums[i]即可, i自增\n",
    "            if nums[j] != val:\n",
    "                nums[i] = nums[j]\n",
    "                i += 1\n",
    "        return i\n",
    "\n",
    "        \n",
    "\"\"\"\n",
    "For Example:    input:  nums = [0,1,2,2,3,0,4,2]  val = 2\n",
    "               output:  5\n",
    "\"\"\"\n",
    "nums = [0,1,2,2,3,0,4,2]\n",
    "val = 2\n",
    "                \n",
    "solution = Solution()\n",
    "result = solution.removeElement(nums, val)\n",
    "print('输出为：',result)"
   ]
  },
  {
   "cell_type": "markdown",
   "metadata": {},
   "source": [
    "<font color=#008000>**方法二：**</font> 简单python语句 [题解](https://leetcode-cn.com/problems/remove-element/solution/xiao-bai-jie-fa-3xing-by-shao-nian-25/)\n",
    "```\n",
    "执行用时：48 ms, 在所有 Python3 提交中击败了21.14%的用户\n",
    "内存消耗：13.6 MB, 在所有 Python3 提交中击败了7.14%的用户\n",
    "```"
   ]
  },
  {
   "cell_type": "code",
   "execution_count": 2,
   "metadata": {},
   "outputs": [
    {
     "name": "stdout",
     "output_type": "stream",
     "text": [
      "输出为： 5\n"
     ]
    }
   ],
   "source": [
    "from typing import List\n",
    "\n",
    "class Solution:\n",
    "    def removeElement(self, nums: List[int], val: int) -> int:\n",
    "        while val in nums:\n",
    "            nums.remove(val)\n",
    "        return len(nums)\n",
    "        \n",
    "\"\"\"\n",
    "For Example:    input:  nums = [0,1,2,2,3,0,4,2]  val = 2\n",
    "               output:  5\n",
    "\"\"\"\n",
    "nums = [0,1,2,2,3,0,4,2]\n",
    "val = 2\n",
    "                \n",
    "solution = Solution()\n",
    "result = solution.removeElement(nums, val)\n",
    "print('输出为：',result)"
   ]
  },
  {
   "cell_type": "markdown",
   "metadata": {},
   "source": [
    "<font color=#008000>**方法三：**</font> 排序法 [题解](https://leetcode-cn.com/problems/remove-element/solution/pai-xu-fa-liang-xing-dai-ma-by-bing-feng-4/)\n",
    "```\n",
    "执行用时：44 ms, 在所有 Python3 提交中击败了45.98%的用户\n",
    "内存消耗：13.7 MB, 在所有 Python3 提交中击败了7.14%的用户\n",
    "```"
   ]
  },
  {
   "cell_type": "code",
   "execution_count": 3,
   "metadata": {},
   "outputs": [
    {
     "name": "stdout",
     "output_type": "stream",
     "text": [
      "输出为： 5\n"
     ]
    }
   ],
   "source": [
    "from typing import List\n",
    "\n",
    "class Solution:\n",
    "    def removeElement(self, nums: List[int], val: int) -> int:\n",
    "        nums.sort(key=lambda x:x==val)\n",
    "        return len(nums)-nums.count(val)\n",
    "        \n",
    "\"\"\"\n",
    "For Example:    input:  nums = [0,1,2,2,3,0,4,2]  val = 2\n",
    "               output:  5\n",
    "\"\"\"\n",
    "nums = [0,1,2,2,3,0,4,2]\n",
    "val = 2\n",
    "                \n",
    "solution = Solution()\n",
    "result = solution.removeElement(nums, val)\n",
    "print('输出为：',result)"
   ]
  },
  {
   "cell_type": "markdown",
   "metadata": {},
   "source": [
    "### 参考\n",
    "1. https://leetcode-cn.com/problems/remove-element/solution/python3-yi-chu-yuan-su-by-leicj/\n",
    "2. https://leetcode-cn.com/problems/remove-element/solution/xiao-bai-jie-fa-3xing-by-shao-nian-25/\n",
    "3. https://leetcode-cn.com/problems/remove-element/solution/pai-xu-fa-liang-xing-dai-ma-by-bing-feng-4/"
   ]
  },
  {
   "cell_type": "markdown",
   "metadata": {},
   "source": [
    "### 如果你觉得有用的话：\n",
    "- 请点点 **star** 呦\n",
    "- 关注我的 [CSDN博客](https://mp.csdn.net/console/article)\n",
    "- 关注我的 [哔哩哔哩](https://space.bilibili.com/424394389/channel/detail?cid=132513)\n",
    "- 关注公众号：CV伴读社\n",
    "<img src='./images/qrcode.jpg' style='zoom:100%'>"
   ]
  }
 ],
 "metadata": {
  "kernelspec": {
   "display_name": "Python 3",
   "language": "python",
   "name": "python3"
  },
  "language_info": {
   "codemirror_mode": {
    "name": "ipython",
    "version": 3
   },
   "file_extension": ".py",
   "mimetype": "text/x-python",
   "name": "python",
   "nbconvert_exporter": "python",
   "pygments_lexer": "ipython3",
   "version": "3.7.7"
  }
 },
 "nbformat": 4,
 "nbformat_minor": 2
}
