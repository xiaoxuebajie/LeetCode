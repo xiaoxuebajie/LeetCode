{
 "cells": [
  {
   "cell_type": "markdown",
   "metadata": {},
   "source": [
    "# 026 Remove Duplicates from Sorted Array\n",
    "- 笔记作者：CV七少\n",
    "- 学习时间：2020.7.8\n",
    "- 编程语言：python\n",
    "- 学习任务：leetcode题解\n",
    "- 题目地址：https://leetcode-cn.com/problems/remove-duplicates-from-sorted-array/"
   ]
  },
  {
   "cell_type": "markdown",
   "metadata": {},
   "source": [
    "### 题目:\n",
    "给定一个排序数组，你需要在` 原地 `删除重复出现的元素，使得每个元素只出现一次，返回移除后数组的新长度。  \n",
    "不要使用额外的数组空间，你必须在` 原地 `修改输入数组 并在使用 O(1) 额外空间的条件下完成。"
   ]
  },
  {
   "cell_type": "markdown",
   "metadata": {},
   "source": [
    "### 示例：\n",
    "- 示例 1:\n",
    "    ```\n",
    "    给定数组 nums = [1,1,2], \n",
    "    函数应该返回新的长度 2, 并且原数组 nums 的前两个元素被修改为 1, 2。 \n",
    "    你不需要考虑数组中超出新长度后面的元素。\n",
    "    ```\n",
    "- 示例 2:\n",
    "    ```\n",
    "    给定 nums = [0,0,1,1,1,2,2,3,3,4],\n",
    "    函数应该返回新的长度 5, 并且原数组 nums 的前五个元素被修改为 0, 1, 2, 3, 4。\n",
    "    你不需要考虑数组中超出新长度后面的元素。\n",
    "    ```"
   ]
  },
  {
   "cell_type": "markdown",
   "metadata": {},
   "source": [
    "### 题解"
   ]
  },
  {
   "cell_type": "markdown",
   "metadata": {},
   "source": [
    "<font color=#008000>**方法一：**</font> 反向遍历  [题解](https://leetcode-cn.com/problems/remove-duplicates-from-sorted-array/solution/shan-chu-pai-xu-shu-zu-zhong-de-zhong-fu-xiang-fen/)\n",
    "```\n",
    "执行用时：56 ms, 在所有 Python3 提交中击败了50.34%的用户\n",
    "内存消耗：14.7 MB, 在所有 Python3 提交中击败了8.16%的用户\n",
    "```"
   ]
  },
  {
   "cell_type": "code",
   "execution_count": 1,
   "metadata": {
    "scrolled": true
   },
   "outputs": [],
   "source": [
    "from typing import List\n",
    "\n",
    "class Solution:\n",
    "    def removeDuplicates(self, nums: List[int]) -> int:\n",
    "        for num_index in range(len(nums)-1, 0, -1):\n",
    "            if nums[num_index] == nums[num_index-1]:\n",
    "                nums.pop(num_index)\n",
    "        return len(nums)\n",
    "        \n",
    "\"\"\"\n",
    "For Example:    input:  nums = [0,0,1,1,1,2,2,3,3,4]\n",
    "               output:  5\n",
    "\"\"\"\n",
    "nums = [0,0,1,1,1,2,2,3,3,4]\n",
    "                \n",
    "solution = Solution()\n",
    "result = solution.removeDuplicates(nums)\n",
    "print('输出为：',result)"
   ]
  },
  {
   "cell_type": "markdown",
   "metadata": {},
   "source": [
    "<font color=#008000>**方法一：**</font> 双指针 [题解](https://leetcode-cn.com/problems/remove-duplicates-from-sorted-array/solution/python-gan-jue-wo-de-si-lu-zui-jian-dan-by-george-/)\n",
    "```\n",
    "执行用时：72 ms, 在所有 Python3 提交中击败了24.13%的用户\n",
    "内存消耗：14.7 MB, 在所有 Python3 提交中击败了8.16%的用户\n",
    "```"
   ]
  },
  {
   "cell_type": "code",
   "execution_count": 2,
   "metadata": {},
   "outputs": [],
   "source": [
    "from typing import List\n",
    "\n",
    "class Solution:\n",
    "    def removeDuplicates(self, nums: List[int]) -> int:\n",
    "        pre,cur=0,1\n",
    "        while cur<len(nums):       \n",
    "            if nums[pre]==nums[cur]:\n",
    "                nums.pop(cur)\n",
    "            else:\n",
    "                pre,cur=pre+1,cur+1\n",
    "        return len(nums)\n",
    "        \n",
    "\"\"\"\n",
    "For Example:    input:  nums = [0,0,1,1,1,2,2,3,3,4]\n",
    "               output:  5\n",
    "\"\"\"\n",
    "nums = [0,0,1,1,1,2,2,3,3,4]\n",
    "                \n",
    "solution = Solution()\n",
    "result = solution.removeDuplicates(nums)\n",
    "print('输出为：',result)"
   ]
  },
  {
   "cell_type": "markdown",
   "metadata": {},
   "source": [
    "### 参考\n",
    "1. https://leetcode-cn.com/problems/remove-duplicates-from-sorted-array/solution/shan-chu-pai-xu-shu-zu-zhong-de-zhong-fu-xiang-fen/\n",
    "2. https://leetcode-cn.com/problems/remove-duplicates-from-sorted-array/solution/python-gan-jue-wo-de-si-lu-zui-jian-dan-by-george-/"
   ]
  },
  {
   "cell_type": "markdown",
   "metadata": {},
   "source": [
    "### 如果你觉得有用的话：\n",
    "- 请点点 **star** 呦\n",
    "- 关注我的 [CSDN博客](https://mp.csdn.net/console/article)\n",
    "- 关注我的 [哔哩哔哩](https://space.bilibili.com/424394389/channel/detail?cid=132513)\n",
    "- 关注公众号：CV伴读社\n",
    "<img src='./images/qrcode.jpg' style='zoom:100%'>"
   ]
  }
 ],
 "metadata": {
  "kernelspec": {
   "display_name": "Python 3",
   "language": "python",
   "name": "python3"
  },
  "language_info": {
   "codemirror_mode": {
    "name": "ipython",
    "version": 3
   },
   "file_extension": ".py",
   "mimetype": "text/x-python",
   "name": "python",
   "nbconvert_exporter": "python",
   "pygments_lexer": "ipython3",
   "version": "3.7.7"
  }
 },
 "nbformat": 4,
 "nbformat_minor": 2
}
