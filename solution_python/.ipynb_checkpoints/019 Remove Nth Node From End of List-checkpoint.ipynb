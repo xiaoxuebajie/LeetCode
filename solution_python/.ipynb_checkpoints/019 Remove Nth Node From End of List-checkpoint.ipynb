{
 "cells": [
  {
   "cell_type": "markdown",
   "metadata": {},
   "source": [
    "# 019 Remove Nth Node From End of List\n",
    "- 笔记作者：CV七少\n",
    "- 学习时间：2020.6.29\n",
    "- 编程语言：python\n",
    "- 学习任务：leetcode题解\n",
    "- 题目地址：https://leetcode-cn.com/problems/remove-nth-node-from-end-of-list/"
   ]
  },
  {
   "cell_type": "markdown",
   "metadata": {},
   "source": [
    "### 题目:\n",
    "给定一个链表，删除链表的倒数第` n `个节点，并且返回链表的头结点。  \n",
    "进阶：你能尝试使用一趟扫描实现吗？"
   ]
  },
  {
   "cell_type": "markdown",
   "metadata": {},
   "source": [
    "### 示例：\n",
    "- 示例 1:\n",
    "    ```\n",
    "    给定一个链表: 1->2->3->4->5, 和 n = 2.\n",
    "    当删除了倒数第二个节点后，链表变为 1->2->3->5.\n",
    "    ```"
   ]
  },
  {
   "cell_type": "markdown",
   "metadata": {},
   "source": [
    "### 题解"
   ]
  },
  {
   "cell_type": "markdown",
   "metadata": {},
   "source": [
    "<font color=#008000>**方法一：**</font> 递归  [题解](https://leetcode-cn.com/problems/remove-nth-node-from-end-of-list/solution/python-di-gui-by-adamch0u/)\n",
    "```\n",
    "执行用时：32 ms, 在所有 Python3 提交中击败了98.09%的用户\n",
    "内存消耗：13.5 MB, 在所有 Python3 提交中击败了5.41%的用户\n",
    "```"
   ]
  },
  {
   "cell_type": "code",
   "execution_count": 1,
   "metadata": {},
   "outputs": [
    {
     "name": "stdout",
     "output_type": "stream",
     "text": [
      "输出为：1->2->3->5\n"
     ]
    }
   ],
   "source": [
    "# Definition for singly-linked list.\n",
    "class ListNode:\n",
    "    def __init__(self, x):\n",
    "        self.val = x\n",
    "        self.next = None\n",
    "        \n",
    "class Solution:\n",
    "    def removeNthFromEnd(self, head, n):\n",
    "        \"\"\"\n",
    "        :type head: ListNode\n",
    "        :type n: int\n",
    "        :rtype: ListNode\n",
    "        \"\"\"\n",
    "        global i   \n",
    "        if head is None:\n",
    "            i=0\n",
    "            return None\n",
    "        head.next = self.removeNthFromEnd(head.next,n)\n",
    "        i+=1\n",
    "        return head.next if i==n else head\n",
    "\n",
    "\"\"\"\n",
    "For Example:    input:    1->2->3->4->5, 和 n = 2\n",
    "               output:    1->2->3->5\n",
    "\"\"\"\n",
    "head = ListNode(1)\n",
    "head.next = ListNode(2)\n",
    "head.next.next = ListNode(3)\n",
    "head.next.next.next = ListNode(4)\n",
    "head.next.next.next.next = ListNode(5)\n",
    "n = 2\n",
    "                \n",
    "solution = Solution()\n",
    "result = solution.removeNthFromEnd(head, n)\n",
    "print('输出为：%d->%d->%d->%d' % (result.val, result.next.val, result.next.next.val, result.next.next.next.val))"
   ]
  },
  {
   "cell_type": "markdown",
   "metadata": {},
   "source": [
    "<font color=#008000>**方法二：**</font> 快慢指针 [题解](https://leetcode-cn.com/problems/remove-nth-node-from-end-of-list/solution/guan-fang-ti-jie-de-python3-shi-xian-fu-ya-jie-dia/)\n",
    "```\n",
    "执行用时：48 ms, 在所有 Python3 提交中击败了35.30%的用户\n",
    "内存消耗：13.7 MB, 在所有 Python3 提交中击败了5.41%的用户\n",
    "```"
   ]
  },
  {
   "cell_type": "code",
   "execution_count": 2,
   "metadata": {},
   "outputs": [
    {
     "name": "stdout",
     "output_type": "stream",
     "text": [
      "输出为：1->2->3->5\n"
     ]
    }
   ],
   "source": [
    "# Definition for singly-linked list.\n",
    "class ListNode:\n",
    "    def __init__(self, x):\n",
    "        self.val = x\n",
    "        self.next = None\n",
    "        \n",
    "class Solution:\n",
    "    def removeNthFromEnd(self, head, n):\n",
    "        \"\"\"\n",
    "        :type head: ListNode\n",
    "        :type n: int\n",
    "        :rtype: ListNode\n",
    "        \"\"\"\n",
    "        dummy = ListNode(0)\n",
    "        dummy.next = head\n",
    "        fast,slow = dummy,dummy\n",
    "        for  i in range(n+1):\n",
    "            fast = fast.next\n",
    "        while fast is not None: \n",
    "            fast = fast.next\n",
    "            slow = slow.next\n",
    "        slow.next = slow.next.next\n",
    "        return dummy.next\n",
    "\n",
    "\"\"\"\n",
    "For Example:    input:    1->2->3->4->5, 和 n = 2\n",
    "               output:    1->2->3->5\n",
    "\"\"\"\n",
    "head = ListNode(1)\n",
    "head.next = ListNode(2)\n",
    "head.next.next = ListNode(3)\n",
    "head.next.next.next = ListNode(4)\n",
    "head.next.next.next.next = ListNode(5)\n",
    "n = 2\n",
    "                \n",
    "solution = Solution()\n",
    "result = solution.removeNthFromEnd(head, n)\n",
    "print('输出为：%d->%d->%d->%d' % (result.val, result.next.val, result.next.next.val, result.next.next.next.val))"
   ]
  },
  {
   "cell_type": "markdown",
   "metadata": {},
   "source": [
    "### 参考\n",
    "1. https://leetcode-cn.com/problems/remove-nth-node-from-end-of-list/solution/python-di-gui-by-adamch0u/\n",
    "2. https://leetcode-cn.com/problems/remove-nth-node-from-end-of-list/solution/guan-fang-ti-jie-de-python3-shi-xian-fu-ya-jie-dia/"
   ]
  },
  {
   "cell_type": "markdown",
   "metadata": {},
   "source": [
    "### 如果你觉得有用的话：\n",
    "- 请点点 **star** 呦\n",
    "- 关注我的 [CSDN博客](https://mp.csdn.net/console/article)\n",
    "- 关注我的 [哔哩哔哩](https://space.bilibili.com/424394389/channel/detail?cid=132513)\n",
    "- 关注公众号：CV伴读社\n",
    "<img src='./images/qrcode.jpg' style='zoom:100%'>"
   ]
  }
 ],
 "metadata": {
  "kernelspec": {
   "display_name": "Python 3",
   "language": "python",
   "name": "python3"
  },
  "language_info": {
   "codemirror_mode": {
    "name": "ipython",
    "version": 3
   },
   "file_extension": ".py",
   "mimetype": "text/x-python",
   "name": "python",
   "nbconvert_exporter": "python",
   "pygments_lexer": "ipython3",
   "version": "3.7.7"
  }
 },
 "nbformat": 4,
 "nbformat_minor": 2
}
