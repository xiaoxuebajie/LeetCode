{
 "cells": [
  {
   "cell_type": "markdown",
   "metadata": {},
   "source": [
    "# 012 Integer to Roman\n",
    "- 笔记作者：CV七少\n",
    "- 学习时间：2020.6.16\n",
    "- 编程语言：python\n",
    "- 学习任务：leetcode题解\n",
    "- 题目地址：https://leetcode-cn.com/problems/integer-to-roman/"
   ]
  },
  {
   "cell_type": "markdown",
   "metadata": {},
   "source": [
    "### 题目:\n",
    "\n",
    "罗马数字包含以下七种字符： `I，V，X，L，C，D, M`\n",
    "```\n",
    "字符          数值\n",
    "I             1\n",
    "V             5\n",
    "X             10\n",
    "L             50\n",
    "C             100\n",
    "D             500\n",
    "M             1000\n",
    "```\n",
    "例如， 罗马数字 2 写做 II ，即为两个并列的 1。12 写做 XII ，即为 X + II 。 27 写做  XXVII, 即为 XX + V + II 。  \n",
    "通常情况下，罗马数字中小的数字在大的数字的右边。但也存在特例，例如 4 不写做 IIII，而是 IV。数字 1 在数字 5 的左边，所表示的数等于大数 5 减小数 1 得到的数值 4 。同样地，数字 9 表示为 IX。这个特殊的规则只适用于以下六种情况：  \n",
    "\n",
    "- I 可以放在 V (5) 和 X (10) 的左边，来表示 4 和 9。\n",
    "- X 可以放在 L (50) 和 C (100) 的左边，来表示 40 和 90。 \n",
    "- C 可以放在 D (500) 和 M (1000) 的左边，来表示 400 和 900。  \n",
    "\n",
    "给定一个整数，将其转为罗马数字。输入确保在 1 到 3999 的范围内。"
   ]
  },
  {
   "cell_type": "markdown",
   "metadata": {},
   "source": [
    "### 示例：\n",
    "- 示例 1:\n",
    "    ```\n",
    "    输入: 3\n",
    "    输出: \"III\"\n",
    "    ```\n",
    "- 示例 2:\n",
    "    ```\n",
    "    输入: 4\n",
    "    输出: \"IV\"\n",
    "    ```\n",
    "- 示例 3:\n",
    "    ```\n",
    "    输入: 9\n",
    "    输出: \"IX\"\n",
    "    ```\n",
    "- 示例 4:\n",
    "    ```\n",
    "    输入: 58\n",
    "    输出: \"LVIII\"\n",
    "    解释: L = 50, V = 5, III = 3.\n",
    "    ```\n",
    "- 示例 5:\n",
    "    ```\n",
    "    输入: 1994\n",
    "    输出: \"MCMXCIV\"\n",
    "    解释: M = 1000, CM = 900, XC = 90, IV = 4.\n",
    "    ```"
   ]
  },
  {
   "cell_type": "markdown",
   "metadata": {},
   "source": [
    "### 题解"
   ]
  },
  {
   "cell_type": "markdown",
   "metadata": {},
   "source": [
    "<font color=#008000>**方法一：**</font> 贪心 [题注](https://leetcode-cn.com/problems/integer-to-roman/solution/tan-xin-ha-xi-biao-tu-jie-by-ml-zimingmeng/)\n",
    "```\n",
    "执行用时 :60 ms, 在所有 Python3 提交中击败了71.03%的用户\n",
    "内存消耗 :13.7 MB, 在所有 Python3 提交中击败了5.26%的用户\n",
    "```"
   ]
  },
  {
   "cell_type": "code",
   "execution_count": 1,
   "metadata": {},
   "outputs": [
    {
     "name": "stdout",
     "output_type": "stream",
     "text": [
      "输出为: MCMXCIV\n"
     ]
    }
   ],
   "source": [
    "class Solution:\n",
    "    def intToRoman(self, num):\n",
    "        \"\"\"\n",
    "        :type num: int\n",
    "        :rtype: str\n",
    "        \"\"\"\n",
    "        # 使用哈希表，按照从大到小顺序排列\n",
    "        hashmap = {1000:'M', 900:'CM', 500:'D', 400:'CD', 100:'C', 90:'XC', 50:'L', 40:'XL', 10:'X', 9:'IX', 5:'V', 4:'IV', 1:'I'}\n",
    "        res = ''\n",
    "        for key in hashmap:\n",
    "            if num // key != 0:\n",
    "                count = num // key  # 比如输入4000，count 为 4\n",
    "                res += hashmap[key] * count \n",
    "                num %= key\n",
    "        return res\n",
    "    \n",
    "\"\"\"\n",
    "For Example:    input:   num = 1994\n",
    "               output:   \"MCMXCIV\"\n",
    "\"\"\"\n",
    "num = 1994\n",
    "                \n",
    "solution = Solution()\n",
    "result = solution.intToRoman(num)\n",
    "print('输出为:', result)"
   ]
  },
  {
   "cell_type": "markdown",
   "metadata": {},
   "source": [
    "<font color=#008000>**方法二：**</font> 暴力搜索 [题注](https://leetcode-cn.com/problems/integer-to-roman/solution/tan-xin-ha-xi-biao-tu-jie-by-ml-zimingmeng/)\n",
    "```\n",
    "执行用时 :44 ms, 在所有 Python3 提交中击败了99.24%的用户\n",
    "内存消耗 :13.6 MB, 在所有 Python3 提交中击败了5.26%的用户\n",
    "```"
   ]
  },
  {
   "cell_type": "code",
   "execution_count": 2,
   "metadata": {},
   "outputs": [
    {
     "name": "stdout",
     "output_type": "stream",
     "text": [
      "输出为: MCMXCIV\n"
     ]
    }
   ],
   "source": [
    "class Solution:\n",
    "    def intToRoman(self, num):\n",
    "        \"\"\"\n",
    "        :type num: int\n",
    "        :rtype: str\n",
    "        \"\"\"\n",
    "        M = [\"\", \"M\", \"MM\", \"MMM\"] # 1000，2000，3000\n",
    "        C = [\"\", \"C\", \"CC\", \"CCC\", \"CD\", \"D\", \"DC\", \"DCC\", \"DCCC\", \"CM\"] # 100~900\n",
    "        X = [\"\", \"X\", \"XX\", \"XXX\", \"XL\", \"L\", \"LX\", \"LXX\", \"LXXX\", \"XC\"] # 10~90\n",
    "        I = [\"\", \"I\", \"II\", \"III\", \"IV\", \"V\", \"VI\", \"VII\", \"VIII\", \"IX\"] # 1~9\n",
    "        return M[num//1000] + C[(num%1000)//100] + X[(num%100)//10] + I[num%10]\n",
    "\n",
    "\"\"\"\n",
    "For Example:    input:   num = 1994\n",
    "               output:   \"MCMXCIV\"\n",
    "\"\"\"\n",
    "num = 1994\n",
    "                \n",
    "solution = Solution()\n",
    "result = solution.intToRoman(num)\n",
    "print('输出为:', result)"
   ]
  },
  {
   "cell_type": "markdown",
   "metadata": {},
   "source": [
    "### 参考\n",
    "1. https://leetcode-cn.com/problems/integer-to-roman/solution/tan-xin-ha-xi-biao-tu-jie-by-ml-zimingmeng/"
   ]
  },
  {
   "cell_type": "markdown",
   "metadata": {},
   "source": [
    "### 如果你觉得有用的话：\n",
    "- 请点点 **star** 呦\n",
    "- 关注我的 [CSDN博客](https://mp.csdn.net/console/article)\n",
    "- 关注我的 [哔哩哔哩](https://space.bilibili.com/424394389/channel/detail?cid=132513)\n",
    "- 关注公众号：CV伴读社\n",
    "<img src='./images/qrcode.jpg' style='zoom:100%'>"
   ]
  }
 ],
 "metadata": {
  "kernelspec": {
   "display_name": "Python 3",
   "language": "python",
   "name": "python3"
  },
  "language_info": {
   "codemirror_mode": {
    "name": "ipython",
    "version": 3
   },
   "file_extension": ".py",
   "mimetype": "text/x-python",
   "name": "python",
   "nbconvert_exporter": "python",
   "pygments_lexer": "ipython3",
   "version": "3.6.9"
  }
 },
 "nbformat": 4,
 "nbformat_minor": 2
}
