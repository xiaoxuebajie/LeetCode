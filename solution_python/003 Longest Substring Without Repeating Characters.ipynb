{
 "cells": [
  {
   "cell_type": "markdown",
   "metadata": {},
   "source": [
    "# 003 Longest Substring Without Repeating Characters\n",
    "- 笔记作者：CV七少\n",
    "- 学习时间：2020.6.5\n",
    "- 编程语言：python\n",
    "- 学习任务：leetcode题解\n",
    "- 题目地址：https://leetcode-cn.com/problems/longest-substring-without-repeating-characters/  "
   ]
  },
  {
   "cell_type": "markdown",
   "metadata": {},
   "source": [
    "### 题目:\n",
    "\n",
    "给定一个字符串，请你找出其中不含有重复字符的 **最长子串** 的长度。"
   ]
  },
  {
   "cell_type": "markdown",
   "metadata": {},
   "source": [
    "### 示例：\n",
    "- 示例 1\n",
    "    ```\n",
    "    输入: \"abcabcbb\"\n",
    "    输出: 3 \n",
    "    解释: 因为无重复字符的最长子串是 \"abc\"，所以其长度为 3\n",
    "    ```\n",
    "- 示例 2\n",
    "    ```\n",
    "    输入: \"bbbbb\"\n",
    "    输出: 1\n",
    "    解释: 因为无重复字符的最长子串是 \"b\"，所以其长度为 1。\n",
    "    ```\n",
    "- 示例 3\n",
    "    ```\n",
    "    输入: \"pwwkew\"\n",
    "    输出: 3\n",
    "    解释: 因为无重复字符的最长子串是 \"wke\"，所以其长度为 3。\n",
    "    请注意，你的答案必须是 子串 的长度，\"pwke\" 是一个子序列，不是子串。\n",
    "    ```"
   ]
  },
  {
   "cell_type": "markdown",
   "metadata": {},
   "source": [
    "### 题解"
   ]
  },
  {
   "cell_type": "markdown",
   "metadata": {},
   "source": [
    "<font color=#008000>**方法一：**</font> 这是一道滑动窗口问题，主要是判断新增元素是否为滑动窗口内的重复元素\n",
    "```\n",
    "执行用时 :76 ms, 在所有 Python3 提交中击败了73.80%的用户\n",
    "内存消耗 :13.7 MB, 在所有 Python3 提交中击败了5.88%的用户\n",
    "```"
   ]
  },
  {
   "cell_type": "code",
   "execution_count": 1,
   "metadata": {},
   "outputs": [
    {
     "name": "stdout",
     "output_type": "stream",
     "text": [
      "输出为： 3\n"
     ]
    }
   ],
   "source": [
    "class Solution:\n",
    "    def lengthOfLongestSubstring(self, s):\n",
    "        \"\"\"\n",
    "        :type s: str\n",
    "        :rtype: int\n",
    "        \"\"\"   \n",
    "        lookup = []\n",
    "        cur_len = max_len = 0\n",
    "        for i in range(len(s)):\n",
    "            val = s[i]\n",
    "            if not val in lookup:\n",
    "                lookup.append(val)\n",
    "                cur_len+=1\n",
    "            else:\n",
    "                index = lookup.index(val)\n",
    "                lookup = lookup[index+1:]  # 移除该位置及之前的字符\n",
    "                lookup.append(val)\n",
    "                cur_len = len(lookup)   # 当前长度更新为窗口长度\n",
    "            if cur_len > max_len:max_len = cur_len    # 如果当前长度大于最大长度，更新最大长度值\n",
    "        return max_len\n",
    "\n",
    "\"\"\"\n",
    "For Example:    input:   s = 'abcabcbb'\n",
    "               output:   3\n",
    "\"\"\"\n",
    "\n",
    "s = 'abcabcbb'\n",
    "                \n",
    "solution = Solution()\n",
    "result = solution.lengthOfLongestSubstring(s)\n",
    "print('输出为：', result)"
   ]
  },
  {
   "cell_type": "markdown",
   "metadata": {},
   "source": [
    "<font color=#008000>**方法二：**</font> 建立哈希表，减少查找的时间复杂度\n",
    "```\n",
    "执行用时 :60 ms, 在所有 Python3 提交中击败了96.82%的用户\n",
    "内存消耗 :13.7 MB, 在所有 Python3 提交中击败了5.88%的用户\n",
    "```"
   ]
  },
  {
   "cell_type": "code",
   "execution_count": 2,
   "metadata": {},
   "outputs": [
    {
     "name": "stdout",
     "output_type": "stream",
     "text": [
      "输出为： 3\n"
     ]
    }
   ],
   "source": [
    "class Solution:\n",
    "    def lengthOfLongestSubstring(self, s):\n",
    "        \"\"\"\n",
    "        :type s: str\n",
    "        :rtype: int\n",
    "        \"\"\"   \n",
    "        rlen = 0\n",
    "        start = 0\n",
    "        trace = {}\n",
    "        for index, ch in enumerate(s):\n",
    "            if ch in trace and trace[ch] >= start:\n",
    "                rlen = max(rlen, index - start)\n",
    "                start = trace[ch] + 1\n",
    "            trace[ch] = index\n",
    "        return max(rlen, len(s) - start)\n",
    "    \n",
    "\"\"\"\n",
    "For Example:    input:   s = 'abcabcbb'\n",
    "               output:   3\n",
    "\"\"\"\n",
    "\n",
    "s = 'abcabcbb'\n",
    "                \n",
    "solution = Solution()\n",
    "result = solution.lengthOfLongestSubstring(s)\n",
    "print('输出为：', result)"
   ]
  },
  {
   "cell_type": "markdown",
   "metadata": {},
   "source": [
    "### 图解:\n",
    "引用的图片展示的是动态查找过程，可以帮助分析，很不错\n",
    "<img src='./images/3.gif' style='zoom=10%'>"
   ]
  },
  {
   "cell_type": "markdown",
   "metadata": {},
   "source": [
    "### 参考\n",
    "1. https://github.com/MisterBooo/LeetCodeAnimation\n",
    "2. https://github.com/pezy/LeetCode"
   ]
  },
  {
   "cell_type": "markdown",
   "metadata": {},
   "source": [
    "### 如果你觉得有用的话：\n",
    "- 请点点 **star** 呦\n",
    "- 关注我的 [CSDN博客](https://mp.csdn.net/console/article)\n",
    "- 关注公众号：CV伴读社\n",
    "<img src='./images/qrcode.jpg' style='zoom:100%'>"
   ]
  }
 ],
 "metadata": {
  "kernelspec": {
   "display_name": "Python 3",
   "language": "python",
   "name": "python3"
  },
  "language_info": {
   "codemirror_mode": {
    "name": "ipython",
    "version": 3
   },
   "file_extension": ".py",
   "mimetype": "text/x-python",
   "name": "python",
   "nbconvert_exporter": "python",
   "pygments_lexer": "ipython3",
   "version": "3.6.9"
  }
 },
 "nbformat": 4,
 "nbformat_minor": 2
}
