{
 "cells": [
  {
   "cell_type": "markdown",
   "metadata": {},
   "source": [
    "# 008 String to Integer (atoi)\n",
    "- 笔记作者：CV七少\n",
    "- 学习时间：2020.6.10\n",
    "- 编程语言：python\n",
    "- 学习任务：leetcode题解\n",
    "- 题目地址：https://leetcode-cn.com/problems/string-to-integer-atoi/"
   ]
  },
  {
   "cell_type": "markdown",
   "metadata": {},
   "source": [
    "### 题目:\n",
    "\n",
    "&emsp;&emsp;请你来实现一个 atoi 函数，使其能将字符串转换成整数。首先，该函数会根据需要丢弃无用的开头空格字符，直到寻找到第一个非空格的字符为止。接下来的转化规则如下：\n",
    "- 如果第一个非空字符为正或者负号时，则将该符号与之后面尽可能多的连续数字字符组合起来，形成一个有符号整数。\n",
    "- 假如第一个非空字符是数字，则直接将其与之后连续的数字字符组合起来，形成一个整数。\n",
    "- 该字符串在有效的整数部分之后也可能会存在多余的字符，那么这些字符可以被忽略，它们对函数不应该造成影响。\n",
    "\n",
    "注意：假如该字符串中的第一个非空格字符不是一个有效整数字符、字符串为空或字符串仅包含空白字符时，则你的函数不需要进行转换，即无法进行有效转换。在任何情况下，若函数不能进行有效的转换时，请返回 0 。\n",
    "提示：\n",
    "- 本题中的空白字符只包括空格字符` ' '` 。\n",
    "- 假设我们的环境只能存储 32 位大小的有符号整数，那么其数值范围为$[-2^{31},2^{31}-1]$,  如果数值超过这个范围，请返回INT_MAX$(2^{31}-1)$或INT_MIN$(-2^{31})$"
   ]
  },
  {
   "cell_type": "markdown",
   "metadata": {},
   "source": [
    "### 示例：\n",
    "- 示例1\n",
    "    ```\n",
    "    输入: \"42\"\n",
    "    输出: 42\n",
    "    ```\n",
    "- 示例2\n",
    "    ```\n",
    "    输入: \"   -42\"\n",
    "    输出: -42\n",
    "    解释: 第一个非空白字符为 '-', 它是一个负号。我们尽可能将负号与后面所有连续出现的数字组合起来，最后得到 -42 。\n",
    "\n",
    "    ```\n",
    "- 示例3\n",
    "    ```\n",
    "    输入: \"4193 with words\"\n",
    "    输出: 4193\n",
    "    解释: 转换截止于数字 '3' ，因为它的下一个字符不为数字。\n",
    "    ```\n",
    "- 示例4\n",
    "    ```\n",
    "    输入: \"words and 987\"\n",
    "    输出: 0\n",
    "    解释: 第一个非空字符是 'w', 但它不是数字或正、负号。因此无法执行有效的转换。\n",
    "    ```\n",
    "- 示例5\n",
    "    ```\n",
    "    输入: \"-91283472332\"\n",
    "    输出: -2147483648\n",
    "    解释: 数字 \"-91283472332\" 超过 32 位有符号整数范围。 因此返回 INT_MIN(-2^{31}) 。\n",
    "    ```"
   ]
  },
  {
   "cell_type": "markdown",
   "metadata": {},
   "source": [
    "### 题解"
   ]
  },
  {
   "cell_type": "markdown",
   "metadata": {},
   "source": [
    "<font color=#008000>**方法一：**</font> 常规判断\n",
    "```\n",
    "执行用时 :44 ms, 在所有 Python3 提交中击败了76.38%的用户\n",
    "内存消耗 :13.7 MB, 在所有 Python3 提交中击败了7.14%的用户\n",
    "```"
   ]
  },
  {
   "cell_type": "code",
   "execution_count": 1,
   "metadata": {},
   "outputs": [
    {
     "name": "stdout",
     "output_type": "stream",
     "text": [
      "输出为: 4193\n"
     ]
    }
   ],
   "source": [
    "class Solution:\n",
    "    def myAtoi(self, str):\n",
    "        \"\"\"\n",
    "        :type str: str\n",
    "        :rtype: int\n",
    "        \"\"\"\n",
    "        str = str.lstrip()       # lstrip() 方法用于截掉字符串左边的空格或指定字符\n",
    "        if len(str) == 0 or (str[0].isdigit()==False and str[0] not in ['-','+']):\n",
    "            return 0\n",
    "        res, i = str[0], 1\n",
    "        while i < len(str) and str[i].isdigit():\n",
    "            res += str[i]\n",
    "            i += 1\n",
    "        try:\n",
    "            res = int(res)\n",
    "            return min(max(res, -2**31), 2**31-1)\n",
    "        except:\n",
    "            return 0\n",
    "    \n",
    "\"\"\"\n",
    "For Example:    input:   str = '4193 with words'\n",
    "               output:   4193\n",
    "\"\"\"\n",
    "str = '4193 with words'\n",
    "                \n",
    "solution = Solution()\n",
    "result = solution.myAtoi(str)\n",
    "print('输出为:', result)"
   ]
  },
  {
   "cell_type": "markdown",
   "metadata": {},
   "source": [
    "<font color=#008000>**方法二：**</font> 正则表达式\n",
    "```\n",
    "执行用时 :40 ms, 在所有 Python3 提交中击败了90.33%的用户\n",
    "内存消耗 :13.7 MB, 在所有 Python3 提交中击败了7.14%的用户\n",
    "```"
   ]
  },
  {
   "cell_type": "code",
   "execution_count": 2,
   "metadata": {},
   "outputs": [
    {
     "name": "stdout",
     "output_type": "stream",
     "text": [
      "输出为: 4193\n"
     ]
    }
   ],
   "source": [
    "import re\n",
    "class Solution:\n",
    "    def myAtoi(self, str):\n",
    "        \"\"\"\n",
    "        :type str: str\n",
    "        :rtype: int\n",
    "        \"\"\"\n",
    "        INT_MAX = 2147483647    \n",
    "        INT_MIN = -2147483648\n",
    "        str = str.lstrip()      #清除左边多余的空格\n",
    "        num_re = re.compile(r'^[\\+\\-]?\\d+')   #设置正则规则\n",
    "        num = num_re.findall(str)   #查找匹配的内容\n",
    "        num = int(*num) #由于返回的是个列表，解包并且转换成整数\n",
    "        return max(min(num,INT_MAX),INT_MIN)    #返回值\n",
    "    \n",
    "        #return max(min(int(*re.findall('^[\\+\\-]?\\d+', str.lstrip())), 2**31 - 1), -2**31)\n",
    "    \n",
    "\"\"\"\n",
    "For Example:    input:   str = '4193 with words'\n",
    "               output:   4193\n",
    "\"\"\"\n",
    "str = '4193 with words'\n",
    "                \n",
    "solution = Solution()\n",
    "result = solution.myAtoi(str)\n",
    "print('输出为:', result)"
   ]
  },
  {
   "cell_type": "markdown",
   "metadata": {},
   "source": [
    "**题解的几点说明：**  \n",
    "\n",
    "- `^`：匹配字符串开头  \n",
    "- `[\\+\\-]`：代表一个+字符或-字符  \n",
    "- `?`：前面一个字符可有可无  \n",
    "- `\\d`：一个数字  \n",
    "- `+`：前面一个字符的一个或多个  \n",
    "- `\\D`：一个非数字字符  \n",
    "- `*`：前面一个字符的0个或多个   "
   ]
  },
  {
   "cell_type": "markdown",
   "metadata": {},
   "source": [
    "### 补充\n",
    "<font color=pink>**1.相关re知识点**</font>\n",
    "\n",
    "- 第一组：\n",
    "    - `\" * \"`:  匹配前面的子表达式零次或多次\n",
    "    - `\" + \"`:  匹配前面的子表达式一次或多次\n",
    "    - `\" ? \"`:  匹配前面的子表达式零次或一次\n",
    "\n",
    "- 第二组：\n",
    "    - `\" [abc] \"`：方括号表示字符集合，例子表示一个字符串有一个 \"a\" 或 \"b\" 或 \"c\" 等价于 [z|b|c]\n",
    "    - `\" [^abc] \"`：^表示一个字符串中不应该出现某些模式，即匹配未包含该集合的任意字符\n",
    "    - 下面几个个也常用\n",
    "    - `\" [a-z] \"`： 表示一个字符串中存在一个 a 和 z 之间的所有字母\n",
    "    - `\" [0-9] \"`： 表示一个字符串中存在一个 0 和 9 之间的所有数字\n",
    "    - `\" [^a-z] \"`：表示一个字符串中不应该出现 a 到 z 之间的任意一个字母\n",
    "\n",
    "- 第三组：\n",
    "    - `\" \\d \"`： 匹配一个数字字符，等价[0-9]\n",
    "    - `\" \\D \"`： 匹配一个非数字字符，等价[^0-9]\n",
    "    - `\" \\w \"`： 匹配包括下划线的任何单词字符。等价于“[A-Za-z0-9_]”\n",
    "    - `\" \\W \"`： 匹配任何非单词字符。等价于“[^A-Za-z0-9_]”\n",
    "    \n",
    "<font color=pink>**2.Pyhton re 模块的相关使用**</font>  \n",
    "\n",
    "\n",
    "- 🔶 re.match函数：尝试从字符串的起始位置匹配一个模式，如果不是起始位置匹配成功的话，match()就返回none。  \n",
    "&emsp;&emsp;&emsp;&emsp;&emsp;&emsp;`re.match(pattern, string, flags=0)`   \n",
    "\n",
    "- 🔶 re.search方法：re.search 扫描整个字符串并返回第一个成功的匹配。  \n",
    "\n",
    "&emsp;&emsp;&emsp;&emsp;&emsp;&emsp;&emsp;&emsp;`re.search(pattern, string, flags=0)`   \n",
    "\n",
    "- 🔶对于返回的匹配的值，可以使用group(num)匹配对象函数来获取匹配表达式 \n",
    "\n",
    "```\n",
    "import re\n",
    " \n",
    "line = \"We are the best.\"\n",
    "# .* 表示任意匹配除换行符（\\n、\\r）之外的任何单个或多个字符\n",
    "matchObj = re.match( r'(.*) are (.*?) .*', line, re.M|re.I)\n",
    " \n",
    "if matchObj:\n",
    "   print (\"matchObj.group() : \", matchObj.group())\n",
    "   print (\"matchObj.group(1) : \", matchObj.group(1))\n",
    "   print (\"matchObj.group(2) : \", matchObj.group(2))\n",
    "else:\n",
    "   print (\"No match!!\")\n",
    "```\n",
    "\n",
    "&emsp;&emsp;输出：&emsp;`matchObj.group() :  We are the best.`  \n",
    "&emsp;&emsp;&emsp;&emsp;&emsp;&emsp;`matchObj.group(1) :  We`  \n",
    "&emsp;&emsp;&emsp;&emsp;&emsp;&emsp;`matchObj.group(2) :  the`  "
   ]
  },
  {
   "cell_type": "markdown",
   "metadata": {},
   "source": [
    "### 参考\n",
    "1. https://www.bilibili.com/video/BV1UZ4y1j7LS\n",
    "2. https://leetcode-cn.com/problems/string-to-integer-atoi/solution/python-1xing-zheng-ze-biao-da-shi-by-knifezhu/\n",
    "3. https://leetcode-cn.com/problems/string-to-integer-atoi/solution/xiong-mao-shua-ti-python3-yi-qi-xue-xi-zheng-ze-bi/"
   ]
  },
  {
   "cell_type": "markdown",
   "metadata": {},
   "source": [
    "### 如果你觉得有用的话：\n",
    "- 请点点 **star** 呦\n",
    "- 关注我的 [CSDN博客](https://mp.csdn.net/console/article)\n",
    "- 关注公众号：CV伴读社\n",
    "<img src='./images/qrcode.jpg' style='zoom:100%'>"
   ]
  }
 ],
 "metadata": {
  "kernelspec": {
   "display_name": "Python 3",
   "language": "python",
   "name": "python3"
  },
  "language_info": {
   "codemirror_mode": {
    "name": "ipython",
    "version": 3
   },
   "file_extension": ".py",
   "mimetype": "text/x-python",
   "name": "python",
   "nbconvert_exporter": "python",
   "pygments_lexer": "ipython3",
   "version": "3.6.9"
  }
 },
 "nbformat": 4,
 "nbformat_minor": 2
}
