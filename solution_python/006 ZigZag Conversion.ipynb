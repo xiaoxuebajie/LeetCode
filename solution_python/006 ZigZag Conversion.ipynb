{
 "cells": [
  {
   "cell_type": "markdown",
   "metadata": {},
   "source": [
    "# 006 ZigZag Conversion\n",
    "- 笔记作者：CV七少\n",
    "- 学习时间：2020.6.8\n",
    "- 编程语言：python\n",
    "- 学习任务：leetcode题解\n",
    "- 题目地址：https://leetcode-cn.com/problems/zigzag-conversion/ "
   ]
  },
  {
   "cell_type": "markdown",
   "metadata": {},
   "source": [
    "### 题目:\n",
    "\n",
    "将一个给定字符串根据给定的行数，以从上往下、从左往右进行Z字形排列。比如输入字符串为\"LEETCODEEISHIRING\"行数为3时，排列如下：\n",
    "```\n",
    "L    C    I    R\n",
    "E  T  O  E  S  I  I  G\n",
    "E    D    H    N\n",
    "```\n",
    "之后，你的输出需要从左往右逐行读取，产生出一个新的字符串，比如：\"LCIRETOESIIGEDHN\"。\n",
    "请你实现这个将字符串进行指定行数变换的函数：  \n",
    "`string convert(string s, int numRows)`"
   ]
  },
  {
   "cell_type": "markdown",
   "metadata": {},
   "source": [
    "### 示例：\n",
    "- 示例1\n",
    "    ```\n",
    "    输入: s = \"LEETCODEISHIRING\", numRows = 3\n",
    "    输出: \"LCIRETOESIIGEDHN\"\n",
    "    ```\n",
    "- 示例2\n",
    "    ```\n",
    "    输入: s = \"LEETCODEISHIRING\", numRows = 4\n",
    "    输出: \"LDREOEIIECIHNTSG\"\n",
    "    解释:\n",
    "            L     D     R\n",
    "            E   O E   I I\n",
    "            E C   I H   N\n",
    "            T     S     G\n",
    "    ```"
   ]
  },
  {
   "cell_type": "markdown",
   "metadata": {},
   "source": [
    "### 题解"
   ]
  },
  {
   "cell_type": "markdown",
   "metadata": {},
   "source": [
    "<font color=#008000>**方法一：**</font> 利用字符串行索引的循环关系求解,下面是同一个方法的不同实现方式。[题注](https://leetcode-cn.com/problems/zigzag-conversion/solution/zzi-xing-bian-huan-by-jyd/)\n",
    "```\n",
    "执行用时 :88 ms, 在所有 Python3 提交中击败了35.36%的用户\n",
    "内存消耗 :13.7 MB, 在所有 Python3 提交中击败了5.00%的用户\n",
    "```"
   ]
  },
  {
   "cell_type": "code",
   "execution_count": 1,
   "metadata": {},
   "outputs": [
    {
     "name": "stdout",
     "output_type": "stream",
     "text": [
      "输出为: LCIRETOESIIGEDHN\n"
     ]
    }
   ],
   "source": [
    "class Solution:\n",
    "    def convert(self, s, numRows):\n",
    "        \"\"\"\n",
    "        :type s: str\n",
    "        :type numRows: int\n",
    "        :rtype: str\n",
    "        \"\"\"\n",
    "        if numRows < 2: return s\n",
    "        res = [\"\" for _ in range(numRows)]\n",
    "        i, flag = 0, -1\n",
    "        for c in s:\n",
    "            res[i] += c\n",
    "            if i == 0 or i == numRows - 1: flag = -flag\n",
    "            i += flag\n",
    "        return \"\".join(res)      \n",
    "    \n",
    "\"\"\"\n",
    "For Example:    input:   s = \"LEETCODEISHIRING\"  numRows = 3\n",
    "               output:   \"LCIRETOESIIGEDHN\"\n",
    "\"\"\"\n",
    "s = \"LEETCODEISHIRING\"\n",
    "numRows = 3\n",
    "                \n",
    "solution = Solution()\n",
    "result = solution.convert(s, numRows)\n",
    "print('输出为:', result)"
   ]
  },
  {
   "cell_type": "code",
   "execution_count": 2,
   "metadata": {},
   "outputs": [
    {
     "name": "stdout",
     "output_type": "stream",
     "text": [
      "输出为: LCIRETOESIIGEDHN\n"
     ]
    }
   ],
   "source": [
    "class Solution:\n",
    "    def convert(self, s, numRows):\n",
    "        \"\"\"\n",
    "        :type s: str\n",
    "        :type numRows: int\n",
    "        :rtype: str\n",
    "        \"\"\"\n",
    "        cache = [i for i in range(numRows)] + [i for i in range(1, numRows-1)][::-1]\n",
    "        res = [\"\"] * numRows\n",
    "        for i, c in enumerate(s):\n",
    "            res[cache[i%len(cache)]] += c\n",
    "        return \"\".join(res)      \n",
    "    \n",
    "\"\"\"\n",
    "For Example:    input:   s = \"LEETCODEISHIRING\"  numRows = 3\n",
    "               output:   \"LCIRETOESIIGEDHN\"\n",
    "\"\"\"\n",
    "s = \"LEETCODEISHIRING\"\n",
    "numRows = 3\n",
    "                \n",
    "solution = Solution()\n",
    "result = solution.convert(s, numRows)\n",
    "print('输出为:', result)"
   ]
  },
  {
   "cell_type": "markdown",
   "metadata": {},
   "source": [
    "### 图解:\n",
    "引用的图片有利于帮助你找到字符串行索引的循环关系\n",
    "<img src='./images/6.png' style='zoom:30%'>"
   ]
  },
  {
   "cell_type": "markdown",
   "metadata": {},
   "source": [
    "### 参考\n",
    "1. https://leetcode-cn.com/problems/zigzag-conversion/solution/zzi-xing-bian-huan-by-jyd/\n",
    "2. https://www.bilibili.com/video/BV1n7411S7Vo"
   ]
  },
  {
   "cell_type": "markdown",
   "metadata": {},
   "source": [
    "### 如果你觉得有用的话：\n",
    "- 请点点 **star** 呦\n",
    "- 关注我的 [CSDN博客](https://mp.csdn.net/console/article)\n",
    "- 关注公众号：CV伴读社\n",
    "<img src='./images/qrcode.jpg' style='zoom:100%'>"
   ]
  }
 ],
 "metadata": {
  "kernelspec": {
   "display_name": "Python 3",
   "language": "python",
   "name": "python3"
  },
  "language_info": {
   "codemirror_mode": {
    "name": "ipython",
    "version": 3
   },
   "file_extension": ".py",
   "mimetype": "text/x-python",
   "name": "python",
   "nbconvert_exporter": "python",
   "pygments_lexer": "ipython3",
   "version": "3.6.9"
  }
 },
 "nbformat": 4,
 "nbformat_minor": 2
}
