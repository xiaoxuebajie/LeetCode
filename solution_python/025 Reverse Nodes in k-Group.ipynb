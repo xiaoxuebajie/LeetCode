{
 "cells": [
  {
   "cell_type": "markdown",
   "metadata": {},
   "source": [
    "# 025 Reverse Nodes in k-Group\n",
    "- 笔记作者：CV七少\n",
    "- 学习时间：2020.7.7\n",
    "- 编程语言：python\n",
    "- 学习任务：leetcode题解\n",
    "- 题目地址：https://leetcode-cn.com/problems/reverse-nodes-in-k-group/"
   ]
  },
  {
   "cell_type": "markdown",
   "metadata": {},
   "source": [
    "### 题目:\n",
    "给你一个链表，每 k 个节点一组进行翻转，请你返回翻转后的链表。 k 是一个正整数，它的值小于或等于链表的长度。  \n",
    "如果节点总数不是 k 的整数倍，那么请将最后剩余的节点保持原有顺序。  \n",
    "\n",
    "说明：\n",
    "- 你的算法只能使用常数的额外空间。\n",
    "- 你不能只是单纯的改变节点内部的值，而是需要实际进行节点交换。"
   ]
  },
  {
   "cell_type": "markdown",
   "metadata": {},
   "source": [
    "### 示例：\n",
    "- 示例 1:\n",
    "    ```\n",
    "    给你这个链表：1->2->3->4->5\n",
    "    当 k = 2 时，应当返回: 2->1->4->3->5\n",
    "    当 k = 3 时，应当返回: 3->2->1->4->5\n",
    "    ```"
   ]
  },
  {
   "cell_type": "markdown",
   "metadata": {},
   "source": [
    "### 题解"
   ]
  },
  {
   "cell_type": "markdown",
   "metadata": {},
   "source": [
    "<font color=#008000>**方法一：**</font> 局部翻转  [题解](https://leetcode-cn.com/problems/reverse-nodes-in-k-group/solution/k-ge-yi-zu-fan-zhuan-lian-biao-by-leetcode-solutio/)\n",
    "```\n",
    "执行用时：48 ms, 在所有 Python3 提交中击败了95.48%的用户\n",
    "内存消耗：14.3 MB, 在所有 Python3 提交中击败了7.69%的用户\n",
    "```"
   ]
  },
  {
   "cell_type": "code",
   "execution_count": 1,
   "metadata": {},
   "outputs": [
    {
     "name": "stdout",
     "output_type": "stream",
     "text": [
      "输出为：3->2->1->4->5\n"
     ]
    }
   ],
   "source": [
    "# Definition for singly-linked list.\n",
    "class ListNode:\n",
    "    def __init__(self, x):\n",
    "        self.val = x\n",
    "        self.next = None\n",
    "\n",
    "class Solution:\n",
    "    # 翻转一个子链表，并且返回新的头与尾\n",
    "    def reverse(self, head: ListNode, tail: ListNode):\n",
    "        prev = tail.next\n",
    "        p = head\n",
    "        while prev != tail:\n",
    "            nex = p.next\n",
    "            p.next = prev\n",
    "            prev = p\n",
    "            p = nex\n",
    "        return tail, head\n",
    "\n",
    "    def reverseKGroup(self, head: ListNode, k: int) -> ListNode:\n",
    "        hair = ListNode(0)\n",
    "        hair.next = head\n",
    "        pre = hair\n",
    "\n",
    "        while head:\n",
    "            tail = pre\n",
    "            # 查看剩余部分长度是否大于等于 k\n",
    "            for i in range(k):\n",
    "                tail = tail.next\n",
    "                if not tail:\n",
    "                    return hair.next\n",
    "            nex = tail.next\n",
    "            head, tail = self.reverse(head, tail)\n",
    "            # 把子链表重新接回原链表\n",
    "            pre.next = head\n",
    "            tail.next = nex\n",
    "            pre = tail\n",
    "            head = tail.next\n",
    "\n",
    "\"\"\"\n",
    "For Example:    input:  1->2->3->4->5  k = 3\n",
    "               output:  3->2->1->4->5\n",
    "\"\"\"\n",
    "k = 3\n",
    "head = ListNode(1)\n",
    "head.next = ListNode(2)\n",
    "head.next.next = ListNode(3)\n",
    "head.next.next.next = ListNode(4)\n",
    "head.next.next.next.next = ListNode(5)\n",
    "                \n",
    "solution = Solution()\n",
    "result = solution.reverseKGroup(head, k)\n",
    "print('输出为：%d->%d->%d->%d->%d' % (result.val, result.next.val, \\\n",
    "        result.next.next.val, result.next.next.next.val, result.next.next.next.next.val))"
   ]
  },
  {
   "cell_type": "markdown",
   "metadata": {},
   "source": [
    "### 参考\n",
    "1. https://leetcode-cn.com/problems/reverse-nodes-in-k-group/solution/k-ge-yi-zu-fan-zhuan-lian-biao-by-leetcode-solutio/"
   ]
  },
  {
   "cell_type": "markdown",
   "metadata": {},
   "source": [
    "### 如果你觉得有用的话：\n",
    "- 请点点 **star** 呦\n",
    "- 关注我的 [CSDN博客](https://mp.csdn.net/console/article)\n",
    "- 关注我的 [哔哩哔哩](https://space.bilibili.com/424394389/channel/detail?cid=132513)\n",
    "- 关注公众号：CV伴读社\n",
    "<img src='./images/qrcode.jpg' style='zoom:100%'>"
   ]
  }
 ],
 "metadata": {
  "kernelspec": {
   "display_name": "Python 3",
   "language": "python",
   "name": "python3"
  },
  "language_info": {
   "codemirror_mode": {
    "name": "ipython",
    "version": 3
   },
   "file_extension": ".py",
   "mimetype": "text/x-python",
   "name": "python",
   "nbconvert_exporter": "python",
   "pygments_lexer": "ipython3",
   "version": "3.7.7"
  }
 },
 "nbformat": 4,
 "nbformat_minor": 2
}
