{
 "cells": [
  {
   "cell_type": "markdown",
   "metadata": {},
   "source": [
    "# 014 Longest Common Prefix\n",
    "- 笔记作者：CV七少\n",
    "- 学习时间：2020.6.18\n",
    "- 编程语言：python\n",
    "- 学习任务：leetcode题解\n",
    "- 题目地址：https://leetcode-cn.com/problems/longest-common-prefix/"
   ]
  },
  {
   "cell_type": "markdown",
   "metadata": {},
   "source": [
    "### 题目:\n",
    "\n",
    "编写一个函数来查找字符串数组中的最长公共前缀。\n",
    "\n",
    "如果不存在公共前缀，返回空字符串` \"\" `。"
   ]
  },
  {
   "cell_type": "markdown",
   "metadata": {},
   "source": [
    "### 示例：\n",
    "- 示例 1:\n",
    "    ```\n",
    "    输入: [\"flower\",\"flow\",\"flight\"]\n",
    "    输出: \"fl\"\n",
    "    ```\n",
    "- 示例 2:\n",
    "    ```\n",
    "    输入: [\"dog\",\"racecar\",\"car\"]\n",
    "    输出: \"\"\n",
    "    解释: 输入不存在公共前缀。\n",
    "    ```"
   ]
  },
  {
   "cell_type": "markdown",
   "metadata": {},
   "source": [
    "### 题解"
   ]
  },
  {
   "cell_type": "markdown",
   "metadata": {},
   "source": [
    "<font color=#008000>**方法一：**</font> 横向扫描\n",
    "- 时间复杂度：O(mn)\n",
    "- 空间复杂度：O(1)\n",
    "```\n",
    "执行用时 :44 ms, 在所有 Python3 提交中击败了59.87%的用户\n",
    "内存消耗 :13.7 MB, 在所有 Python3 提交中击败了6.15%的用户\n",
    "```"
   ]
  },
  {
   "cell_type": "code",
   "execution_count": 1,
   "metadata": {},
   "outputs": [
    {
     "name": "stdout",
     "output_type": "stream",
     "text": [
      "输出为: fl\n"
     ]
    }
   ],
   "source": [
    "class Solution:\n",
    "    def lcp(self, str1, str2):\n",
    "        length, index = min(len(str1), len(str2)), 0\n",
    "        while index < length and str1[index] == str2[index]:\n",
    "            index += 1\n",
    "        return str1[:index]\n",
    "\n",
    "    def longestCommonPrefix(self, strs):\n",
    "        \"\"\"\n",
    "        :type strs: List[str]\n",
    "        :rtype: str\n",
    "        \"\"\"\n",
    "        if not strs:\n",
    "            return \"\"\n",
    "        \n",
    "        prefix, count = strs[0], len(strs)\n",
    "        for i in range(1, count):\n",
    "            prefix = self.lcp(prefix, strs[i])\n",
    "            if not prefix:\n",
    "                break\n",
    "        \n",
    "        return prefix\n",
    "\n",
    "\"\"\"\n",
    "For Example:    input:   strs = [\"flower\",\"flow\",\"flight\"]\n",
    "               output:   \"fl\"\n",
    "\"\"\"\n",
    "strs = [\"flower\",\"flow\",\"flight\"]\n",
    "                \n",
    "solution = Solution()\n",
    "result = solution.longestCommonPrefix(strs)\n",
    "print('输出为:', result)"
   ]
  },
  {
   "cell_type": "markdown",
   "metadata": {},
   "source": [
    "<font color=#008000>**方法二：**</font> 纵向扫描\n",
    "- 时间复杂度：O(mn)\n",
    "- 空间复杂度：O(1)\n",
    "```\n",
    "执行用时 :44 ms, 在所有 Python3 提交中击败了59.87%的用户\n",
    "内存消耗 :13.7 MB, 在所有 Python3 提交中击败了6.15%的用户\n",
    "```"
   ]
  },
  {
   "cell_type": "code",
   "execution_count": 2,
   "metadata": {},
   "outputs": [
    {
     "name": "stdout",
     "output_type": "stream",
     "text": [
      "输出为: fl\n"
     ]
    }
   ],
   "source": [
    "class Solution:\n",
    "    def longestCommonPrefix(self, strs):\n",
    "        \"\"\"\n",
    "        :type strs: List[str]\n",
    "        :rtype: str\n",
    "        \"\"\"\n",
    "        if not strs:\n",
    "            return \"\"\n",
    "        \n",
    "        length, count = len(strs[0]), len(strs)\n",
    "        for i in range(length):\n",
    "            c = strs[0][i]\n",
    "            if any(i == len(strs[j]) or strs[j][i] != c for j in range(1, count)):\n",
    "                return strs[0][:i]\n",
    "        \n",
    "        return strs[0]\n",
    "\n",
    "\"\"\"\n",
    "For Example:    input:   strs = [\"flower\",\"flow\",\"flight\"]\n",
    "               output:   \"fl\"\n",
    "\"\"\"\n",
    "strs = [\"flower\",\"flow\",\"flight\"]\n",
    "                \n",
    "solution = Solution()\n",
    "result = solution.longestCommonPrefix(strs)\n",
    "print('输出为:', result)"
   ]
  },
  {
   "cell_type": "markdown",
   "metadata": {},
   "source": [
    "<font color=#008000>**方法三：**</font> 分治\n",
    "- 时间复杂度：O(mn)\n",
    "- 空间复杂度：O(mlogn)\n",
    "```\n",
    "执行用时 :40 ms, 在所有 Python3 提交中击败了79.86%的用户\n",
    "内存消耗 :13.9 MB, 在所有 Python3 提交中击败了6.15%的用户\n",
    "```"
   ]
  },
  {
   "cell_type": "code",
   "execution_count": 3,
   "metadata": {},
   "outputs": [
    {
     "name": "stdout",
     "output_type": "stream",
     "text": [
      "输出为: fl\n"
     ]
    }
   ],
   "source": [
    "class Solution:\n",
    "    def longestCommonPrefix(self, strs):\n",
    "        \"\"\"\n",
    "        :type strs: List[str]\n",
    "        :rtype: str\n",
    "        \"\"\"\n",
    "        def lcp(start, end):\n",
    "            if start == end:\n",
    "                return strs[start]\n",
    "\n",
    "            mid = (start + end) // 2\n",
    "            lcpLeft, lcpRight = lcp(start, mid), lcp(mid + 1, end)\n",
    "            minLength = min(len(lcpLeft), len(lcpRight))\n",
    "            for i in range(minLength):\n",
    "                if lcpLeft[i] != lcpRight[i]:\n",
    "                    return lcpLeft[:i]\n",
    "\n",
    "            return lcpLeft[:minLength]\n",
    "\n",
    "        return \"\" if not strs else lcp(0, len(strs) - 1)\n",
    "\n",
    "\"\"\"\n",
    "For Example:    input:   strs = [\"flower\",\"flow\",\"flight\"]\n",
    "               output:   \"fl\"\n",
    "\"\"\"\n",
    "strs = [\"flower\",\"flow\",\"flight\"]\n",
    "                \n",
    "solution = Solution()\n",
    "result = solution.longestCommonPrefix(strs)\n",
    "print('输出为:', result)"
   ]
  },
  {
   "cell_type": "markdown",
   "metadata": {},
   "source": [
    "<font color=#008000>**方法四：**</font> 二分查找\n",
    "- 时间复杂度：O(mnlogm)\n",
    "- 空间复杂度：O(1)\n",
    "```\n",
    "执行用时 :44 ms, 在所有 Python3 提交中击败了59.87%的用户\n",
    "内存消耗 :13.8 MB, 在所有 Python3 提交中击败了6.15%的用户\n",
    "```"
   ]
  },
  {
   "cell_type": "code",
   "execution_count": 4,
   "metadata": {},
   "outputs": [
    {
     "name": "stdout",
     "output_type": "stream",
     "text": [
      "输出为: fl\n"
     ]
    }
   ],
   "source": [
    "class Solution:\n",
    "    def longestCommonPrefix(self, strs):\n",
    "        \"\"\"\n",
    "        :type strs: List[str]\n",
    "        :rtype: str\n",
    "        \"\"\"\n",
    "        def isCommonPrefix(length):\n",
    "            str0, count = strs[0][:length], len(strs)\n",
    "            return all(strs[i][:length] == str0 for i in range(1, count))\n",
    "\n",
    "        if not strs:\n",
    "            return \"\"\n",
    "\n",
    "        minLength = min(len(s) for s in strs)\n",
    "        low, high = 0, minLength\n",
    "        while low < high:\n",
    "            mid = (high - low + 1) // 2 + low\n",
    "            if isCommonPrefix(mid):\n",
    "                low = mid\n",
    "            else:\n",
    "                high = mid - 1\n",
    "\n",
    "        return strs[0][:low]\n",
    "    \n",
    "\"\"\"\n",
    "For Example:    input:   strs = [\"flower\",\"flow\",\"flight\"]\n",
    "               output:   \"fl\"\n",
    "\"\"\"\n",
    "strs = [\"flower\",\"flow\",\"flight\"]\n",
    "                \n",
    "solution = Solution()\n",
    "result = solution.longestCommonPrefix(strs)\n",
    "print('输出为:', result)"
   ]
  },
  {
   "cell_type": "markdown",
   "metadata": {},
   "source": [
    "<font color=#008000>**方法五：**</font> 最小最大字符串   \n",
    "先找出数组中字典序最小和最大的字符串，最长公共前缀即为这两个字符串的公共前缀\n",
    "```\n",
    "执行用时 :44 ms, 在所有 Python3 提交中击败了59.87%的用户\n",
    "内存消耗 :13.6 MB, 在所有 Python3 提交中击败了6.15%的用户\n",
    "```"
   ]
  },
  {
   "cell_type": "code",
   "execution_count": 5,
   "metadata": {},
   "outputs": [
    {
     "name": "stdout",
     "output_type": "stream",
     "text": [
      "输出为: fl\n"
     ]
    }
   ],
   "source": [
    "class Solution:\n",
    "    def longestCommonPrefix(self, strs):\n",
    "        \"\"\"\n",
    "        :type strs: List[str]\n",
    "        :rtype: str\n",
    "        \"\"\"\n",
    "        if not strs: return \"\"\n",
    "        str0 = min(strs)\n",
    "        str1 = max(strs)\n",
    "        for i in range(len(str0)):\n",
    "            if str0[i] != str1[i]:\n",
    "                return str0[:i]\n",
    "        return str0\n",
    "    \n",
    "\"\"\"\n",
    "For Example:    input:   strs = [\"flower\",\"flow\",\"flight\"]\n",
    "               output:   \"fl\"\n",
    "\"\"\"\n",
    "strs = [\"flower\",\"flow\",\"flight\"]\n",
    "                \n",
    "solution = Solution()\n",
    "result = solution.longestCommonPrefix(strs)\n",
    "print('输出为:', result)"
   ]
  },
  {
   "cell_type": "markdown",
   "metadata": {},
   "source": [
    "### 参考\n",
    "1. https://leetcode-cn.com/problems/longest-common-prefix/solution/zui-chang-gong-gong-qian-zhui-by-leetcode-solution/\n",
    "2. https://leetcode-cn.com/problems/longest-common-prefix/solution/zi-dian-xu-zui-da-he-zui-xiao-zi-fu-chuan-de-gong-/"
   ]
  },
  {
   "cell_type": "markdown",
   "metadata": {},
   "source": [
    "### 如果你觉得有用的话：\n",
    "- 请点点 **star** 呦\n",
    "- 关注我的 [CSDN博客](https://mp.csdn.net/console/article)\n",
    "- 关注我的 [哔哩哔哩](https://space.bilibili.com/424394389/channel/detail?cid=132513)\n",
    "- 关注公众号：CV伴读社\n",
    "<img src='./images/qrcode.jpg' style='zoom:100%'>"
   ]
  }
 ],
 "metadata": {
  "kernelspec": {
   "display_name": "Python 3",
   "language": "python",
   "name": "python3"
  },
  "language_info": {
   "codemirror_mode": {
    "name": "ipython",
    "version": 3
   },
   "file_extension": ".py",
   "mimetype": "text/x-python",
   "name": "python",
   "nbconvert_exporter": "python",
   "pygments_lexer": "ipython3",
   "version": "3.6.9"
  }
 },
 "nbformat": 4,
 "nbformat_minor": 2
}
